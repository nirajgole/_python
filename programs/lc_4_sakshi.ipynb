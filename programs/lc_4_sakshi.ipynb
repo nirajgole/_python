{
 "cells": [
  {
   "cell_type": "code",
   "execution_count": 8,
   "metadata": {},
   "outputs": [
    {
     "name": "stdout",
     "output_type": "stream",
     "text": [
      "  1:1\n",
      "  2:4\n",
      "  3:9\n",
      " 4:16\n",
      " 5:25\n",
      " 6:36\n",
      " 7:49\n",
      " 8:64\n",
      " 9:81\n",
      "10:100\n"
     ]
    }
   ],
   "source": [
    "a=0\n",
    "while a<10:\n",
    "    a+=1\n",
    "    print(f'{a}:{a**2}')"
   ]
  },
  {
   "cell_type": "code",
   "execution_count": 13,
   "metadata": {},
   "outputs": [
    {
     "name": "stdout",
     "output_type": "stream",
     "text": [
      "3628800\n"
     ]
    }
   ],
   "source": [
    "b=int(input(\"Enter a no:\"))\n",
    "i=1\n",
    "res=1\n",
    "while i<b:\n",
    "    i=i+1\n",
    "    res*=i\n",
    "print(res)"
   ]
  },
  {
   "cell_type": "code",
   "execution_count": 17,
   "metadata": {},
   "outputs": [
    {
     "data": {
      "text/plain": [
       "'This function returns number multiplied by 3'"
      ]
     },
     "execution_count": 17,
     "metadata": {},
     "output_type": "execute_result"
    }
   ],
   "source": [
    "def mul_by_3(num):\n",
    "    \"This function returns number multiplied by 3\"\n",
    "    return num * 3\n",
    "mul_by_3.__doc__\n",
    "\n",
    "# please also explain dunder/magic methods\n",
    "# for ex. doc\n",
    "# mul_by_3.__doc__"
   ]
  },
  {
   "cell_type": "code",
   "execution_count": 18,
   "metadata": {},
   "outputs": [
    {
     "data": {
      "text/plain": [
       "360"
      ]
     },
     "execution_count": 18,
     "metadata": {},
     "output_type": "execute_result"
    }
   ],
   "source": [
    "def multiplication(*args):\n",
    "    res=1\n",
    "    for i in args:\n",
    "        res*=i\n",
    "    return res\n",
    "\n",
    "multiplication(1,2,5,6,6)"
   ]
  },
  {
   "cell_type": "code",
   "execution_count": 37,
   "metadata": {},
   "outputs": [
    {
     "data": {
      "text/plain": [
       "'Prime'"
      ]
     },
     "execution_count": 37,
     "metadata": {},
     "output_type": "execute_result"
    }
   ],
   "source": [
    "is_prime = lambda b:\"Prime\" if b not in (1,0) and sum([True if b%i==0 else False for i in  range(2,b-1)])==0 else \"Not Prime\"\n",
    "is_prime(223)"
   ]
  },
  {
   "cell_type": "code",
   "execution_count": 2,
   "metadata": {},
   "outputs": [
    {
     "data": {
      "text/plain": [
       "33"
      ]
     },
     "execution_count": 2,
     "metadata": {},
     "output_type": "execute_result"
    }
   ],
   "source": [
    "sm=lambda a,b:sum([a,b])\n",
    "sm(10,23)"
   ]
  },
  {
   "cell_type": "code",
   "execution_count": 3,
   "metadata": {},
   "outputs": [
    {
     "name": "stdout",
     "output_type": "stream",
     "text": [
      "0\n",
      "1\n",
      "1\n",
      "2\n",
      "3\n",
      "5\n",
      "8\n",
      "13\n",
      "21\n",
      "34\n"
     ]
    }
   ],
   "source": [
    "a,b=0,1\n",
    "for i in range(0,10):\n",
    "    print(a)\n",
    "    a,b=b,a+b"
   ]
  }
 ],
 "metadata": {
  "kernelspec": {
   "display_name": "base",
   "language": "python",
   "name": "python3"
  },
  "language_info": {
   "codemirror_mode": {
    "name": "ipython",
    "version": 3
   },
   "file_extension": ".py",
   "mimetype": "text/x-python",
   "name": "python",
   "nbconvert_exporter": "python",
   "pygments_lexer": "ipython3",
   "version": "3.10.9"
  },
  "orig_nbformat": 4
 },
 "nbformat": 4,
 "nbformat_minor": 2
}
