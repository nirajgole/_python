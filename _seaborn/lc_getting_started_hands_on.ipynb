{
 "cells": [
  {
   "attachments": {},
   "cell_type": "markdown",
   "metadata": {},
   "source": [
    "# Getting Started with Python (Hands-on 1)\n"
   ]
  },
  {
   "cell_type": "code",
   "execution_count": 2,
   "metadata": {
    "vscode": {
     "languageId": "powershell"
    }
   },
   "outputs": [],
   "source": [
    "# 2. Open a new python file and import the Module.py file.\n",
    "# a. Now call the 4 methods from the Module.py file, i.e., addition(), subtraction(),\n",
    "# multiplication(), and division().\n",
    "\n",
    "import calculator as cal\n",
    "from calculator import addition as add, multiplication as mul, division"
   ]
  },
  {
   "cell_type": "code",
   "execution_count": 3,
   "metadata": {
    "vscode": {
     "languageId": "powershell"
    }
   },
   "outputs": [
    {
     "name": "stdout",
     "output_type": "stream",
     "text": [
      "3\n"
     ]
    }
   ],
   "source": [
    "# 3. From the Module file, import only the addition() and pass the arguments so that it can\n",
    "# display the result from the method.\n",
    "\n",
    "res = add(1, 2)\n",
    "print(res)"
   ]
  },
  {
   "cell_type": "code",
   "execution_count": 4,
   "metadata": {
    "vscode": {
     "languageId": "powershell"
    }
   },
   "outputs": [
    {
     "name": "stdout",
     "output_type": "stream",
     "text": [
      "-1\n"
     ]
    }
   ],
   "source": [
    "# 4. From the Module file, import only the subtraction() and pass the arguments so that it can\n",
    "# display the result from the method.\n",
    "print(cal.subtraction(1, 2))"
   ]
  },
  {
   "cell_type": "code",
   "execution_count": 5,
   "metadata": {
    "vscode": {
     "languageId": "powershell"
    }
   },
   "outputs": [
    {
     "name": "stdout",
     "output_type": "stream",
     "text": [
      "2\n",
      "0.5\n"
     ]
    }
   ],
   "source": [
    "# 5. From the Module file, import both the multiplication() and division() and pass the\n",
    "# arguments so that it can display the result from the methods.\n",
    "\n",
    "print(mul(1, 2))\n",
    "print(division(1, 2))"
   ]
  },
  {
   "cell_type": "code",
   "execution_count": 6,
   "metadata": {
    "vscode": {
     "languageId": "powershell"
    }
   },
   "outputs": [
    {
     "name": "stdout",
     "output_type": "stream",
     "text": [
      "Both numbers are equal\n"
     ]
    }
   ],
   "source": [
    "# 6. Create a python if-else program to check if the given numbers are greater or not,\n",
    "\n",
    "num1 = int(input('Enter first number: '))\n",
    "num2 = int(input('Enter second number: '))\n",
    "if num1 > num2:\n",
    "    print('First number is greater')\n",
    "elif num2 > num1:\n",
    "    print('Second number is greater')\n",
    "else:\n",
    "    print('Both numbers are equal')"
   ]
  },
  {
   "cell_type": "code",
   "execution_count": 7,
   "metadata": {
    "vscode": {
     "languageId": "powershell"
    }
   },
   "outputs": [
    {
     "name": "stdout",
     "output_type": "stream",
     "text": [
      "5 4\n",
      "4 0\n",
      "45 is not armstrong.\n"
     ]
    }
   ],
   "source": [
    "# check whether the given number is an armstrong number or not,\n",
    "# sum of cubes of it's digits\n",
    "\n",
    "num1 = int(input('Enter number: '))\n",
    "num = num1\n",
    "s = 0\n",
    "while num1 > 0:\n",
    "    a = num1 % 10\n",
    "    s += (a**3)\n",
    "    num1 = num1//10\n",
    "    print(a, num1)\n",
    "print(f'{num} is{\" not\" if s!=num else \"\"} armstrong.')"
   ]
  },
  {
   "cell_type": "code",
   "execution_count": 8,
   "metadata": {
    "vscode": {
     "languageId": "powershell"
    }
   },
   "outputs": [
    {
     "name": "stdout",
     "output_type": "stream",
     "text": [
      "45 is not prime number\n"
     ]
    }
   ],
   "source": [
    "# check whether the given number is a prime number or not.\n",
    "num1 = int(input('Enter a number: '))\n",
    "\n",
    "flag = True\n",
    "for i in range(2, num1):\n",
    "    if (num1 % i == 0):\n",
    "        flag = False\n",
    "        break\n",
    "print(f'{num1} is{\" not\" if not flag else \"\"} prime number')"
   ]
  },
  {
   "cell_type": "code",
   "execution_count": 9,
   "metadata": {
    "vscode": {
     "languageId": "powershell"
    }
   },
   "outputs": [
    {
     "ename": "ValueError",
     "evalue": "invalid literal for int() with base 10: ''",
     "output_type": "error",
     "traceback": [
      "\u001b[1;31m---------------------------------------------------------------------------\u001b[0m",
      "\u001b[1;31mValueError\u001b[0m                                Traceback (most recent call last)",
      "Cell \u001b[1;32mIn[9], line 5\u001b[0m\n\u001b[0;32m      1\u001b[0m \u001b[39m# 7. Create a calculator program for addition, subtraction, multiplication and floor division.\u001b[39;00m\n\u001b[0;32m      2\u001b[0m \u001b[39m# Take the inputs from the user, and based on the choice of operation, return the results.\u001b[39;00m\n\u001b[0;32m      4\u001b[0m num1 \u001b[39m=\u001b[39m \u001b[39mint\u001b[39m(\u001b[39minput\u001b[39m(\u001b[39m'\u001b[39m\u001b[39mEnter first number: \u001b[39m\u001b[39m'\u001b[39m))\n\u001b[1;32m----> 5\u001b[0m num2 \u001b[39m=\u001b[39m \u001b[39mint\u001b[39;49m(\u001b[39minput\u001b[39;49m(\u001b[39m'\u001b[39;49m\u001b[39mEnter second number: \u001b[39;49m\u001b[39m'\u001b[39;49m))\n\u001b[0;32m      6\u001b[0m choice \u001b[39m=\u001b[39m \u001b[39mint\u001b[39m(\n\u001b[0;32m      7\u001b[0m     \u001b[39minput\u001b[39m(\u001b[39m'''\u001b[39m\u001b[39mEnter choice for operation: \u001b[39m\n\u001b[0;32m      8\u001b[0m \u001b[39m          1-Addition\u001b[39m\n\u001b[1;32m   (...)\u001b[0m\n\u001b[0;32m     11\u001b[0m \u001b[39m          4-Floor Division\u001b[39m\n\u001b[0;32m     12\u001b[0m \u001b[39m          \u001b[39m\u001b[39m'''\u001b[39m))\n\u001b[0;32m     14\u001b[0m \u001b[39mmatch\u001b[39;00m(choice):\n",
      "\u001b[1;31mValueError\u001b[0m: invalid literal for int() with base 10: ''"
     ]
    }
   ],
   "source": [
    "# 7. Create a calculator program for addition, subtraction, multiplication and floor division.\n",
    "# Take the inputs from the user, and based on the choice of operation, return the results.\n",
    "\n",
    "num1 = int(input('Enter first number: '))\n",
    "num2 = int(input('Enter second number: '))\n",
    "choice = int(\n",
    "    input('''Enter choice for operation: \n",
    "          1-Addition\n",
    "          2-Subtraction\n",
    "          3-Multiplication\n",
    "          4-Floor Division\n",
    "          '''))\n",
    "\n",
    "match(choice):\n",
    "    case 1: print('Addition: ', num1+num2)\n",
    "    case 2: print('Subtraction: ', num1-num2)\n",
    "    case 3: print('Multiplication: ', num1*num2)\n",
    "    case 4: print('Floor Division:', num1//num2)"
   ]
  },
  {
   "cell_type": "code",
   "execution_count": 10,
   "metadata": {
    "vscode": {
     "languageId": "powershell"
    }
   },
   "outputs": [
    {
     "name": "stdout",
     "output_type": "stream",
     "text": [
      "0 1 1 2 3 5 8 13 21 34 55 89 144 233 377 610 987 1597 2584 4181 6765 10946 17711 28657 46368 75025 121393 196418 317811 514229 832040 1346269 2178309 3524578 5702887 9227465 14930352 24157817 39088169 63245986 102334155 165580141 267914296 433494437 701408733 "
     ]
    }
   ],
   "source": [
    "# 8. Create a fibonacci sequence using python if-else statements.\n",
    "\n",
    "num1 = int(input(\"Enter a range: \"))\n",
    "a, b = 0, 1\n",
    "for _ in range(num1):\n",
    "    print(a, end=' ')\n",
    "    a, b = b, a+b"
   ]
  },
  {
   "cell_type": "code",
   "execution_count": 43,
   "metadata": {
    "vscode": {
     "languageId": "powershell"
    }
   },
   "outputs": [
    {
     "name": "stdout",
     "output_type": "stream",
     "text": [
      "{'key1': ['value1', 'value2', 'value3'], 'key2': ['value4', 'value5', 'value6'], 'key3': {'key31': ['value7', 'value8', 'value9'], 'key32': ['value10', 'value11', 'value12']}}\n"
     ]
    }
   ],
   "source": [
    "# 9. Create a nested dictionary with values as a nested list for each key in the dictionary.\n",
    "nested_dict = {\n",
    "    'key1': ['value1', 'value2', 'value3'],\n",
    "    'key2': ['value4', 'value5', 'value6'],\n",
    "    'key3': {\n",
    "        'key31': ['value7', 'value8', 'value9'],\n",
    "        'key32': ['value10', 'value11', 'value12']\n",
    "    }\n",
    "}\n",
    "print(nested_dict)"
   ]
  },
  {
   "cell_type": "code",
   "execution_count": 12,
   "metadata": {
    "vscode": {
     "languageId": "powershell"
    }
   },
   "outputs": [],
   "source": [
    "# 10. Create two sets and perform the following:\n",
    "\n",
    "set1 = {1, 2, 1, 1, 1, 1, 1, 2}\n",
    "set2 = {123,123,44,2,1,34,5,4}"
   ]
  },
  {
   "cell_type": "code",
   "execution_count": 13,
   "metadata": {
    "vscode": {
     "languageId": "powershell"
    }
   },
   "outputs": [
    {
     "data": {
      "text/plain": [
       "{1, 2, 4, 5, 34, 44, 123}"
      ]
     },
     "execution_count": 13,
     "metadata": {},
     "output_type": "execute_result"
    }
   ],
   "source": [
    "# a. Union of the two sets\n",
    "# set1.union(set2)\n",
    "set1|set2"
   ]
  },
  {
   "cell_type": "code",
   "execution_count": 14,
   "metadata": {
    "vscode": {
     "languageId": "powershell"
    }
   },
   "outputs": [
    {
     "data": {
      "text/plain": [
       "{1, 2}"
      ]
     },
     "execution_count": 14,
     "metadata": {},
     "output_type": "execute_result"
    }
   ],
   "source": [
    "# b. Intersection of the two sets\n",
    "# set1.intersection(set2)\n",
    "set1 & set2"
   ]
  },
  {
   "cell_type": "code",
   "execution_count": 57,
   "metadata": {
    "vscode": {
     "languageId": "powershell"
    }
   },
   "outputs": [
    {
     "data": {
      "text/plain": [
       "[('key1', ['value1', 'value2', 'value3']),\n",
       " ('key2', ['value4', 'value5', 'value6']),\n",
       " ('key31', ['value7', 'value8', 'value9']),\n",
       " ('key32', ['value10', 'value11', 'value12'])]"
      ]
     },
     "execution_count": 57,
     "metadata": {},
     "output_type": "execute_result"
    }
   ],
   "source": [
    "# 11. Create a nested tuple from the dictionary, with each item in the tuple as a key value pair\n",
    "# from the dictionary.\n",
    "\n",
    "def convert_nested_dict_to_nested_tuple(nested_dict):\n",
    "  \"\"\"Converts a nested dictionary to a nested tuple.\n",
    "\n",
    "  Args:\n",
    "    nested_dict: The nested dictionary to convert.\n",
    "\n",
    "  Returns:\n",
    "    A nested tuple.\n",
    "  \"\"\"\n",
    "  nested_tuple = []\n",
    "  for key, value in nested_dict.items():\n",
    "    if isinstance(value, dict):\n",
    "      nested_tuple.extend(convert_nested_dict_to_nested_tuple(value))\n",
    "    else:\n",
    "      nested_tuple.append((key, value))\n",
    "  return nested_tuple\n",
    "  \n",
    "tp=convert_nested_dict_to_nested_tuple(nested_dict)\n",
    "tp"
   ]
  },
  {
   "cell_type": "code",
   "execution_count": null,
   "metadata": {
    "vscode": {
     "languageId": "powershell"
    }
   },
   "outputs": [],
   "source": [
    "paradigms of writinhg a program - \n",
    "functional programming, \n",
    "procedural programming,\n",
    "OOPS -> Object Oriented Programming Structure\n",
    "DRY - do not repeat yourself X WET - write everything twice"
   ]
  },
  {
   "cell_type": "code",
   "execution_count": 16,
   "metadata": {
    "vscode": {
     "languageId": "powershell"
    }
   },
   "outputs": [
    {
     "name": "stdout",
     "output_type": "stream",
     "text": [
      "[2, 4, 6, 8, 10, 12, 14, 16, 18, 20, 22, 24, 26, 28, 30, 32, 34, 36, 38, 40, 42, 44, 46, 48, 50, 52, 54, 56, 58, 60, 62, 64, 66, 68, 70, 72, 74, 76, 78, 80, 82, 84, 86, 88, 90, 92, 94, 96, 98, 100]\n"
     ]
    }
   ],
   "source": [
    "\n",
    "# 12. Create a list of the first 50 even natural numbers, and perform the following operations.\n",
    "\n",
    "fty_natural_nos = []\n",
    "i = 0\n",
    "while len(fty_natural_nos) < 50:\n",
    "    i += 1\n",
    "    if i % 2 == 0:\n",
    "        fty_natural_nos.append(i)\n",
    "\n",
    "print(fty_natural_nos)"
   ]
  },
  {
   "cell_type": "code",
   "execution_count": 17,
   "metadata": {
    "vscode": {
     "languageId": "powershell"
    }
   },
   "outputs": [
    {
     "name": "stdout",
     "output_type": "stream",
     "text": [
      "50\n"
     ]
    }
   ],
   "source": [
    "# c. Count the number of elements in the list.\n",
    "cnt = len(fty_natural_nos)\n",
    "print(cnt)"
   ]
  },
  {
   "cell_type": "code",
   "execution_count": 18,
   "metadata": {
    "vscode": {
     "languageId": "powershell"
    }
   },
   "outputs": [
    {
     "name": "stdout",
     "output_type": "stream",
     "text": [
      "[100, 98, 96, 94, 92, 90, 88, 86, 84, 82, 80, 78, 76, 74, 72, 70, 68, 66, 64, 62, 60, 58, 56, 54, 52, 50, 48, 46, 44, 42, 40, 38, 36, 34, 32, 30, 28, 26, 24, 22, 20, 18, 16, 14, 12, 10, 8, 6, 4, 2]\n"
     ]
    }
   ],
   "source": [
    "# d. Reverse the sequence of the list.\n",
    "print(fty_natural_nos[::-1])"
   ]
  },
  {
   "cell_type": "code",
   "execution_count": 19,
   "metadata": {
    "vscode": {
     "languageId": "powershell"
    }
   },
   "outputs": [
    {
     "name": "stdout",
     "output_type": "stream",
     "text": [
      "Ascending Order: [2, 4, 6, 8, 10, 12, 14, 16, 18, 20, 22, 24, 26, 28, 30, 32, 34, 36, 38, 40, 42, 44, 46, 48, 50, 52, 54, 56, 58, 60, 62, 64, 66, 68, 70, 72, 74, 76, 78, 80, 82, 84, 86, 88, 90, 92, 94, 96, 98, 100]\n",
      " Descending Order: [100, 98, 96, 94, 92, 90, 88, 86, 84, 82, 80, 78, 76, 74, 72, 70, 68, 66, 64, 62, 60, 58, 56, 54, 52, 50, 48, 46, 44, 42, 40, 38, 36, 34, 32, 30, 28, 26, 24, 22, 20, 18, 16, 14, 12, 10, 8, 6, 4, 2]\n"
     ]
    }
   ],
   "source": [
    "# e. Sort the list in ascending and descending order.\n",
    "asc_order = sorted(fty_natural_nos)\n",
    "dsc_order = sorted(fty_natural_nos, reverse=True)\n",
    "print(f'Ascending Order: {asc_order}\\n Descending Order: {dsc_order}')"
   ]
  },
  {
   "cell_type": "code",
   "execution_count": 20,
   "metadata": {
    "vscode": {
     "languageId": "powershell"
    }
   },
   "outputs": [
    {
     "name": "stdout",
     "output_type": "stream",
     "text": [
      "21\n",
      "100\n"
     ]
    }
   ],
   "source": [
    "# f. Get the index value for the element 44, and update the element with the number 100.\n",
    "get_index = fty_natural_nos.index(44)\n",
    "print(get_index)\n",
    "fty_natural_nos[get_index] = 100\n",
    "print(fty_natural_nos[get_index])"
   ]
  },
  {
   "cell_type": "code",
   "execution_count": 21,
   "metadata": {
    "vscode": {
     "languageId": "powershell"
    }
   },
   "outputs": [
    {
     "data": {
      "text/plain": [
       "[4,\n",
       " 16,\n",
       " 36,\n",
       " 64,\n",
       " 100,\n",
       " 144,\n",
       " 196,\n",
       " 256,\n",
       " 324,\n",
       " 400,\n",
       " 484,\n",
       " 576,\n",
       " 676,\n",
       " 784,\n",
       " 900,\n",
       " 1024,\n",
       " 1156,\n",
       " 1296,\n",
       " 1444,\n",
       " 1600,\n",
       " 1764,\n",
       " 10000,\n",
       " 2116,\n",
       " 2304,\n",
       " 2500,\n",
       " 2704,\n",
       " 2916,\n",
       " 3136,\n",
       " 3364,\n",
       " 3600,\n",
       " 3844,\n",
       " 4096,\n",
       " 4356,\n",
       " 4624,\n",
       " 4900,\n",
       " 5184,\n",
       " 5476,\n",
       " 5776,\n",
       " 6084,\n",
       " 6400,\n",
       " 6724,\n",
       " 7056,\n",
       " 7396,\n",
       " 7744,\n",
       " 8100,\n",
       " 8464,\n",
       " 8836,\n",
       " 9216,\n",
       " 9604,\n",
       " 10000]"
      ]
     },
     "execution_count": 21,
     "metadata": {},
     "output_type": "execute_result"
    }
   ],
   "source": [
    "# g. Return a copy of the list, with the resulting list containing the square of each element.\n",
    "squared_list = [i**2 for i in fty_natural_nos]\n",
    "squared_list"
   ]
  },
  {
   "cell_type": "code",
   "execution_count": 89,
   "metadata": {
    "vscode": {
     "languageId": "powershell"
    }
   },
   "outputs": [
    {
     "name": "stdout",
     "output_type": "stream",
     "text": [
      "[('key1', ['value1', 'value2', 'value3']), ('key2', ['value4', 'value5', 'value6']), ('key31', ['value7', 'value8', 'value9']), ('key32', 45)]\n"
     ]
    }
   ],
   "source": [
    "# 13. Create a nested dictionary and perform the following operations.\n",
    "# h. Return a list with the key value pairs from the dictionary.\n",
    "print(convert_nested_dict_to_nested_tuple(nested_dict))"
   ]
  },
  {
   "cell_type": "code",
   "execution_count": 90,
   "metadata": {
    "vscode": {
     "languageId": "powershell"
    }
   },
   "outputs": [
    {
     "data": {
      "text/plain": [
       "['key1', 'key2', 'key31', 'key32']"
      ]
     },
     "execution_count": 90,
     "metadata": {},
     "output_type": "execute_result"
    }
   ],
   "source": [
    "# i. Return a list with just the keys from the dictionary.\n",
    "[i[0] for i in convert_nested_dict_to_nested_tuple(nested_dict)]"
   ]
  },
  {
   "cell_type": "code",
   "execution_count": 101,
   "metadata": {
    "vscode": {
     "languageId": "powershell"
    }
   },
   "outputs": [
    {
     "data": {
      "text/plain": [
       "{'key2': ['value4', 'value5', 'value6']}"
      ]
     },
     "execution_count": 101,
     "metadata": {},
     "output_type": "execute_result"
    }
   ],
   "source": [
    "# j. Remove the first and last key value from the dictionary.\n",
    "\n",
    "removed_keys={k:v for k,v in nested_dict.items() if k in list(nested_dict.keys())[1:-1]}\n",
    "removed_keys"
   ]
  },
  {
   "cell_type": "code",
   "execution_count": null,
   "metadata": {
    "vscode": {
     "languageId": "powershell"
    }
   },
   "outputs": [],
   "source": [
    "# k. Update the last key value pair in the dictionary after removing in the 3rd step.\n",
    "last_obj=nested_dict[list(nested_dict.keys())[-1]]\n",
    "last_obj[list(last_obj.keys())[-1]]=45\n",
    "nested_dict"
   ]
  },
  {
   "cell_type": "code",
   "execution_count": null,
   "metadata": {
    "vscode": {
     "languageId": "powershell"
    }
   },
   "outputs": [],
   "source": [
    "# 14. For the given strings A = “Python Programming Language”, B = “Best in the World” , perform\n",
    "# the following operations.\n",
    "# l. Using indexing operations, get the text “gram” from the string A.\n",
    "# m. Using indexing operations, get the text “World” from the string B.\n",
    "# n. Change the letters in both strings to Uppercase letters.\n",
    "# o. Concatenate the two strings.\n",
    "\n"
   ]
  }
 ],
 "metadata": {
  "kernelspec": {
   "display_name": "Python 3",
   "language": "python",
   "name": "python3"
  },
  "language_info": {
   "codemirror_mode": {
    "name": "ipython",
    "version": 3
   },
   "file_extension": ".py",
   "mimetype": "text/x-python",
   "name": "python",
   "nbconvert_exporter": "python",
   "pygments_lexer": "ipython3",
   "version": "3.11.3"
  },
  "orig_nbformat": 4
 },
 "nbformat": 4,
 "nbformat_minor": 2
}
