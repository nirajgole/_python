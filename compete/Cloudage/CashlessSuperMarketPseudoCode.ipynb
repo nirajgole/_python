{
 "cells": [
  {
   "cell_type": "markdown",
   "metadata": {},
   "source": [
    "# Cashless Supermarket Pseudo-code\n",
    "\n",
    "User will enter supermarket with id(unique) and two payment mode (card and digital)\n",
    "\n",
    "#### 1. input - generate empty cart with unique user id\n",
    "#### 2. input - add items to cart\n",
    "#### 3. input - remove items from cart\n",
    "#### 4. function - at the time of checkout add the price of each item in cart\n",
    "#### 5. function - check if user has sufficient balance in account to pay the total price else make the payment through other formats cash/card\n",
    "#### 6. function - deduct total price from the users account digitally"
   ]
  }
 ],
 "metadata": {
  "language_info": {
   "name": "python"
  },
  "orig_nbformat": 4
 },
 "nbformat": 4,
 "nbformat_minor": 2
}
