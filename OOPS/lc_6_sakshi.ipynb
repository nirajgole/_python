{
 "cells": [
  {
   "attachments": {},
   "cell_type": "markdown",
   "metadata": {},
   "source": [
    "# OOPS\n"
   ]
  },
  {
   "cell_type": "code",
   "execution_count": 1,
   "metadata": {},
   "outputs": [],
   "source": [
    "class Employee:\n",
    "    def __init__(self, name, age, salary):\n",
    "        self.name = name\n",
    "        self.age = age\n",
    "        self.sal = salary\n",
    "\n",
    "\n",
    "emp1 = Employee('Bhavana', 26, 40000)\n",
    "emp1 = Employee('Devirama', 46, 50000)"
   ]
  },
  {
   "cell_type": "code",
   "execution_count": 2,
   "metadata": {},
   "outputs": [
    {
     "data": {
      "text/plain": [
       "46"
      ]
     },
     "execution_count": 2,
     "metadata": {},
     "output_type": "execute_result"
    }
   ],
   "source": [
    "emp1.age"
   ]
  },
  {
   "cell_type": "code",
   "execution_count": 11,
   "metadata": {},
   "outputs": [
    {
     "ename": "TypeError",
     "evalue": "x must be an integer",
     "output_type": "error",
     "traceback": [
      "\u001b[1;31m---------------------------------------------------------------------------\u001b[0m",
      "\u001b[1;31mTypeError\u001b[0m                                 Traceback (most recent call last)",
      "\u001b[1;32me:\\Gole_Niraj\\IPaat\\python\\live_class\\lc_6_sakshi.ipynb Cell 4\u001b[0m in \u001b[0;36m<cell line: 8>\u001b[1;34m()\u001b[0m\n\u001b[0;32m      <a href='vscode-notebook-cell:/e%3A/Gole_Niraj/IPaat/python/live_class/lc_6_sakshi.ipynb#W6sZmlsZQ%3D%3D?line=4'>5</a>\u001b[0m         \u001b[39mraise\u001b[39;00m \u001b[39mTypeError\u001b[39;00m(\u001b[39m\"\u001b[39m\u001b[39mx must be an integer\u001b[39m\u001b[39m\"\u001b[39m)\n\u001b[0;32m      <a href='vscode-notebook-cell:/e%3A/Gole_Niraj/IPaat/python/live_class/lc_6_sakshi.ipynb#W6sZmlsZQ%3D%3D?line=5'>6</a>\u001b[0m     \u001b[39m# rest of the function\u001b[39;00m\n\u001b[1;32m----> <a href='vscode-notebook-cell:/e%3A/Gole_Niraj/IPaat/python/live_class/lc_6_sakshi.ipynb#W6sZmlsZQ%3D%3D?line=7'>8</a>\u001b[0m p1 \u001b[39m=\u001b[39m my_function(\u001b[39m45.23\u001b[39;49m)\n\u001b[0;32m      <a href='vscode-notebook-cell:/e%3A/Gole_Niraj/IPaat/python/live_class/lc_6_sakshi.ipynb#W6sZmlsZQ%3D%3D?line=8'>9</a>\u001b[0m p1\u001b[39m.\u001b[39mname\n\u001b[0;32m     <a href='vscode-notebook-cell:/e%3A/Gole_Niraj/IPaat/python/live_class/lc_6_sakshi.ipynb#W6sZmlsZQ%3D%3D?line=9'>10</a>\u001b[0m p1\u001b[39m.\u001b[39mage\n",
      "\u001b[1;32me:\\Gole_Niraj\\IPaat\\python\\live_class\\lc_6_sakshi.ipynb Cell 4\u001b[0m in \u001b[0;36mmy_function\u001b[1;34m(x)\u001b[0m\n\u001b[0;32m      <a href='vscode-notebook-cell:/e%3A/Gole_Niraj/IPaat/python/live_class/lc_6_sakshi.ipynb#W6sZmlsZQ%3D%3D?line=2'>3</a>\u001b[0m \u001b[39mdef\u001b[39;00m \u001b[39mmy_function\u001b[39m(x):\n\u001b[0;32m      <a href='vscode-notebook-cell:/e%3A/Gole_Niraj/IPaat/python/live_class/lc_6_sakshi.ipynb#W6sZmlsZQ%3D%3D?line=3'>4</a>\u001b[0m     \u001b[39mif\u001b[39;00m \u001b[39mnot\u001b[39;00m \u001b[39misinstance\u001b[39m(x, \u001b[39mint\u001b[39m):\n\u001b[1;32m----> <a href='vscode-notebook-cell:/e%3A/Gole_Niraj/IPaat/python/live_class/lc_6_sakshi.ipynb#W6sZmlsZQ%3D%3D?line=4'>5</a>\u001b[0m         \u001b[39mraise\u001b[39;00m \u001b[39mTypeError\u001b[39;00m(\u001b[39m\"\u001b[39m\u001b[39mx must be an integer\u001b[39m\u001b[39m\"\u001b[39m)\n",
      "\u001b[1;31mTypeError\u001b[0m: x must be an integer"
     ]
    }
   ],
   "source": [
    "# type safety in python\n",
    "\n",
    "def my_function(x):\n",
    "    if not isinstance(x, int):\n",
    "        raise TypeError(\"x must be an integer\")\n",
    "    # rest of the function\n",
    "\n",
    "p1 = my_function(45.23)"
   ]
  }
 ],
 "metadata": {
  "kernelspec": {
   "display_name": "base",
   "language": "python",
   "name": "python3"
  },
  "language_info": {
   "codemirror_mode": {
    "name": "ipython",
    "version": 3
   },
   "file_extension": ".py",
   "mimetype": "text/x-python",
   "name": "python",
   "nbconvert_exporter": "python",
   "pygments_lexer": "ipython3",
   "version": "3.10.9"
  },
  "orig_nbformat": 4
 },
 "nbformat": 4,
 "nbformat_minor": 2
}
