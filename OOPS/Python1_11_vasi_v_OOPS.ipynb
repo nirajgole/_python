{
  "cells": [
    {
      "cell_type": "code",
      "execution_count": null,
      "id": "58373f84",
      "metadata": {
        "id": "58373f84"
      },
      "outputs": [],
      "source": [
        "# data types, operators, conditional statement, loops, collection ()\n",
        "# functions, *args, **kwargs, lambda"
      ]
    },
    {
      "cell_type": "code",
      "execution_count": null,
      "id": "e3616fe7",
      "metadata": {
        "id": "e3616fe7"
      },
      "outputs": [],
      "source": [
        "# paradigms -> way of writing the code\n",
        "# procedural programming\n",
        "# functional programming\n",
        "# OOPs -> Object Oriented Programming Structure"
      ]
    },
    {
      "cell_type": "code",
      "execution_count": null,
      "id": "1f2d2532",
      "metadata": {
        "id": "1f2d2532",
        "outputId": "4f3293db-0bac-4ac9-aa1f-5053de1da79d"
      },
      "outputs": [
        {
          "name": "stdout",
          "output_type": "stream",
          "text": [
            "Enter the username: dasjkndkasj\n",
            "Enter the password: dasdasd\n",
            "Invalid username or password\n",
            "Enter the username: dasdas\n",
            "Enter the password: dasdasd\n",
            "Invalid username or password\n"
          ]
        }
      ],
      "source": [
        "# procedural programming -> C\n",
        "\n",
        "username = input('Enter the username: ')\n",
        "password = input('Enter the password: ')\n",
        "# API -> Application Programming Interface\n",
        "\n",
        "original_username = 'Sakshi'\n",
        "original_password = '1234'\n",
        "\n",
        "if(username == original_username and password == original_password):\n",
        "    print('Logged in')\n",
        "else:\n",
        "    print('Invalid username or password')\n",
        "    \n",
        "# lines written....\n",
        "    \n",
        "username = input('Enter the username: ')\n",
        "password = input('Enter the password: ')\n",
        "# API -> Application Programming Interface\n",
        "\n",
        "original_username = 'Dinesh'\n",
        "original_password = '5678'\n",
        "\n",
        "if(username == original_username and password == original_password):\n",
        "    print('Logged in')\n",
        "else:\n",
        "    print('Invalid username or password')\n",
        "    \n",
        "    \n",
        "username = input('Enter the username: ')\n",
        "password = input('Enter the password: ')\n",
        "# API -> Application Programming Interface\n",
        "\n",
        "original_username = 'Dinesh'\n",
        "original_password = '5678'\n",
        "\n",
        "if(username == original_username and password == original_password):\n",
        "    print('Logged in')\n",
        "else:\n",
        "    print('Invalid username or password')"
      ]
    },
    {
      "cell_type": "code",
      "execution_count": null,
      "id": "dc01d441",
      "metadata": {
        "id": "dc01d441",
        "outputId": "45aa3774-b98d-4445-dcad-37140c0cf8b8"
      },
      "outputs": [
        {
          "name": "stdout",
          "output_type": "stream",
          "text": [
            "Enter the username: fasfad\n",
            "Enter the password: fafda\n",
            "invalid\n",
            "Enter the username: fafasd\n",
            "Enter the password: fafa\n",
            "invalid\n"
          ]
        }
      ],
      "source": [
        "# functional programming\n",
        "def validate(username, password):\n",
        "    # API -> Application Programming Interface\n",
        "    original_username = 'Sakshi'\n",
        "    original_password = '1234'\n",
        "    \n",
        "    if(username == original_username and password == original_password):\n",
        "        print('Logged in')\n",
        "    else:\n",
        "        print(\"invalid\")\n",
        "        \n",
        "def get_user_input():\n",
        "    username = input('Enter the username: ')\n",
        "    password = input('Enter the password: ')\n",
        "    validate(username, password)\n",
        "    \n",
        "for i in range(10):\n",
        "    get_user_input()"
      ]
    },
    {
      "cell_type": "code",
      "execution_count": null,
      "id": "49a901c0",
      "metadata": {
        "id": "49a901c0",
        "outputId": "560f4d96-e28a-4d9e-bdd8-08fcb748ed02"
      },
      "outputs": [
        {
          "name": "stdout",
          "output_type": "stream",
          "text": [
            "charger 5000 2 10000\n"
          ]
        }
      ],
      "source": [
        "# Object Oriented Programming\n",
        "item = 'Iphone 14'\n",
        "item_price = 70000\n",
        "item_quantity = 2\n",
        "item_total_price = item_price * item_quantity\n",
        "\n",
        "# print(item, item_price, item_quantity, item_total_price)\n",
        "\n",
        "item2 = 'charger'\n",
        "item2_price = 5000\n",
        "item2_quantity = 2\n",
        "item2_total_price = item2_price * item2_quantity\n",
        "print(item2, item2_price, item2_quantity, item2_total_price)"
      ]
    },
    {
      "cell_type": "code",
      "execution_count": null,
      "id": "93f06f0c",
      "metadata": {
        "id": "93f06f0c",
        "outputId": "b371370c-1eb2-4c3c-82ab-c1795f2622ae"
      },
      "outputs": [
        {
          "name": "stdout",
          "output_type": "stream",
          "text": [
            "0\n",
            "5\n",
            "15\n",
            "35\n"
          ]
        }
      ],
      "source": [
        "# *args\n",
        "def add(*nums):\n",
        "    total = 0\n",
        "    for num in nums:\n",
        "        total += num\n",
        "    return total\n",
        "\n",
        "print(add())\n",
        "print(add(5))\n",
        "print(add(5 ,10))\n",
        "print(add(5, 10, 20))"
      ]
    },
    {
      "cell_type": "code",
      "execution_count": null,
      "id": "04dc7d08",
      "metadata": {
        "id": "04dc7d08",
        "outputId": "abcd175b-c3de-4b06-a504-8ed461bf1ae2"
      },
      "outputs": [
        {
          "name": "stdout",
          "output_type": "stream",
          "text": [
            "Welcome to intellipaat Vishnu. Your id is 10\n"
          ]
        }
      ],
      "source": [
        "# **kwargs -> key word arguments\n",
        "def welcome(**details):\n",
        "#     print(details) # dict\n",
        "    print(f'Welcome to intellipaat {details.get(\"name\")}. Your id is {details.get(\"student_id\")}')\n",
        "    \n",
        "welcome(student_id = 10, name = \"Vishnu\", place = 'India')"
      ]
    },
    {
      "cell_type": "code",
      "execution_count": null,
      "id": "13925695",
      "metadata": {
        "id": "13925695",
        "outputId": "5f8d56fb-d311-46e7-aeeb-4d32d0482fec"
      },
      "outputs": [
        {
          "ename": "TypeError",
          "evalue": "sort() takes no positional arguments",
          "output_type": "error",
          "traceback": [
            "\u001b[1;31m---------------------------------------------------------------------------\u001b[0m",
            "\u001b[1;31mTypeError\u001b[0m                                 Traceback (most recent call last)",
            "Input \u001b[1;32mIn [40]\u001b[0m, in \u001b[0;36m<cell line: 3>\u001b[1;34m()\u001b[0m\n\u001b[0;32m      1\u001b[0m names \u001b[38;5;241m=\u001b[39m [\u001b[38;5;124m'\u001b[39m\u001b[38;5;124mbhuvi\u001b[39m\u001b[38;5;124m'\u001b[39m, \u001b[38;5;124m'\u001b[39m\u001b[38;5;124mjadeja\u001b[39m\u001b[38;5;124m'\u001b[39m, \u001b[38;5;124m'\u001b[39m\u001b[38;5;124mDhoni\u001b[39m\u001b[38;5;124m'\u001b[39m]\n\u001b[0;32m      2\u001b[0m \u001b[38;5;66;03m# names.sort(key=str.lower, reverse=True)\u001b[39;00m\n\u001b[1;32m----> 3\u001b[0m \u001b[43mnames\u001b[49m\u001b[38;5;241;43m.\u001b[39;49m\u001b[43msort\u001b[49m\u001b[43m(\u001b[49m\u001b[38;5;28;43;01mTrue\u001b[39;49;00m\u001b[43m,\u001b[49m\u001b[43m \u001b[49m\u001b[38;5;28;43mstr\u001b[39;49m\u001b[38;5;241;43m.\u001b[39;49m\u001b[43mlower\u001b[49m\u001b[43m)\u001b[49m\n\u001b[0;32m      4\u001b[0m \u001b[38;5;28mprint\u001b[39m(names)\n",
            "\u001b[1;31mTypeError\u001b[0m: sort() takes no positional arguments"
          ]
        }
      ],
      "source": [
        "names = ['bhuvi', 'jadeja', 'Dhoni']\n",
        "# names.sort(key=str.lower, reverse=True)\n",
        "names.sort(True, str.lower)\n",
        "print(names)"
      ]
    },
    {
      "cell_type": "code",
      "execution_count": null,
      "id": "66c2c0fe",
      "metadata": {
        "id": "66c2c0fe",
        "outputId": "4ce1c790-d329-44a1-e342-ba7a096bee05"
      },
      "outputs": [
        {
          "name": "stdout",
          "output_type": "stream",
          "text": [
            "<__main__.Human object at 0x0000019CF7090580> <class '__main__.Human'>\n"
          ]
        }
      ],
      "source": [
        "# OOPS\n",
        "# class -> blueprint(how the object is gonna look and behave)\n",
        "# object -> the real person\n",
        "# attribute/properties -> variables written inside a class\n",
        "# behaviours/methods -> functions written inside a class\n",
        "\n",
        "\n",
        "class Human:\n",
        "    name = 'vasanth'\n",
        "    age = 10\n",
        "    gender = 'male'\n",
        "    \n",
        "    def play():\n",
        "        print('playing cricket')\n",
        "\n",
        "    def eat():\n",
        "        print('eating 2 idli')\n",
        "\n",
        "\n",
        "vasanth = Human()\n",
        "print(vasanth, type(vasanth))"
      ]
    },
    {
      "cell_type": "code",
      "execution_count": null,
      "id": "af99abc1",
      "metadata": {
        "id": "af99abc1",
        "outputId": "58393d23-f9a3-417a-c43d-a2a9b07be7f1"
      },
      "outputs": [
        {
          "name": "stdout",
          "output_type": "stream",
          "text": [
            "<class 'bool'>\n",
            "<class 'str'>\n"
          ]
        }
      ],
      "source": [
        "num = True\n",
        "print(type(num))\n",
        "\n",
        "name = str('avsadabdkaj')\n",
        "print(type(name))\n",
        "\n",
        "\n",
        "# class int:\n",
        "#     nfak,nfa\n",
        "    \n",
        "# class str:\n",
        "#     dja,knda\n",
        "    \n",
        "    "
      ]
    },
    {
      "cell_type": "code",
      "execution_count": null,
      "id": "cbd98c29",
      "metadata": {
        "id": "cbd98c29",
        "outputId": "63350f1b-8ded-401e-a1ab-ce3c1240c0ad"
      },
      "outputs": [
        {
          "name": "stdout",
          "output_type": "stream",
          "text": [
            "5000\n"
          ]
        }
      ],
      "source": [
        "# whenever we call a method -> the calling object itself passed as a first parameter\n",
        "\n",
        "class Item:\n",
        "    def calculate_total_price(self):\n",
        "#         print('obj  ', self.__dict__)\n",
        "        return self.price * self.quantity\n",
        "\n",
        "phone = Item()\n",
        "phone.name = 'Iphone 14'\n",
        "phone.quantity = 2\n",
        "phone.price = 70000\n",
        "\n",
        "# print(phone.name, phone.quantity, phone.price)\n",
        "# dunder -> double under methods\n",
        "# print(phone.__dict__)\n",
        "\n",
        "# print('phone', phone)\n",
        "# print(phone.calculate_total_price())\n",
        "\n",
        "charger = Item()\n",
        "charger.name = 'Iphone charger'\n",
        "charger.quantity = 1\n",
        "charger.price = 5000\n",
        "# print(charger.__dict__)\n",
        "\n",
        "print(charger.calculate_total_price())"
      ]
    },
    {
      "cell_type": "code",
      "execution_count": null,
      "id": "89da58fb",
      "metadata": {
        "id": "89da58fb",
        "outputId": "64a79478-3947-4ce9-cb05-301a4b9bdef6"
      },
      "outputs": [
        {
          "name": "stdout",
          "output_type": "stream",
          "text": [
            "True\n",
            "True\n"
          ]
        }
      ],
      "source": [
        "num = 20\n",
        "print(num >= 20)\n",
        "print(num.__eq__(20))"
      ]
    },
    {
      "cell_type": "code",
      "execution_count": null,
      "id": "b55f1230",
      "metadata": {
        "id": "b55f1230",
        "outputId": "a031af86-2a66-478b-9097-91a9c39174b4"
      },
      "outputs": [
        {
          "name": "stdout",
          "output_type": "stream",
          "text": [
            "total price\n",
            "70000\n",
            "total price\n",
            "5000\n"
          ]
        }
      ],
      "source": [
        "# constructor -> is a place where memory is going to get created whenever an object is created\n",
        "\n",
        "class Item:\n",
        "    def __init__(self, name, price, quantity):\n",
        "#         print('constructor called', self)\n",
        "        self.name = name\n",
        "        self.price = price\n",
        "        self.quantity = quantity\n",
        "    \n",
        "    def calculate_total_price(self):\n",
        "        print('total price')\n",
        "        return self.price * self.quantity\n",
        "    \n",
        "phone = Item('Iphone 14', 70000, 1)\n",
        "charger = Item('Iphone charger', 5000, 1)\n",
        "tomato = Item('tomato', 20, 1)\n",
        "# print(phone.__dict__)\n",
        "# print(charger.__dict__)\n",
        "# print(tomato.__dict__)\n",
        "print(phone.calculate_total_price())\n",
        "print(charger.calculate_total_price())"
      ]
    },
    {
      "cell_type": "code",
      "execution_count": null,
      "id": "5fc6e6f9",
      "metadata": {
        "id": "5fc6e6f9",
        "outputId": "ad934741-0af7-4504-f4a7-afe365c24d21"
      },
      "outputs": [
        {
          "name": "stdout",
          "output_type": "stream",
          "text": [
            "{'name': 'Iphone 14', 'price': 70000, 'quantity': 1, 'is_backcase_present': False}\n",
            "{'name': 'moto g3', 'price': 15000, 'quantity': 1, 'is_backcase_present': True}\n",
            "{'name': 'tomato', 'price': 20, 'quantity': 1}\n"
          ]
        }
      ],
      "source": [
        "class Item:\n",
        "    def __init__(self, name, price, quantity):\n",
        "        self.name = name\n",
        "        self.price = price\n",
        "        self.quantity = quantity\n",
        "    \n",
        "    def calculate_total_price(self):\n",
        "        return self.price * self.quantity\n",
        "    \n",
        "phone = Item('Iphone 14', 70000, 1)\n",
        "phone.is_backcase_present = False # self or object properties\n",
        "print(phone.__dict__)\n",
        "moto_g3 = Item(\"moto g3\", 15000, 1)\n",
        "moto_g3.is_backcase_present = True\n",
        "print(moto_g3.__dict__)\n",
        "tomato = Item('tomato', 20, 1)\n",
        "print(tomato.__dict__)"
      ]
    },
    {
      "cell_type": "code",
      "execution_count": null,
      "id": "82d05b73",
      "metadata": {
        "id": "82d05b73",
        "outputId": "dd2397b9-114e-4e98-b277-c66c6ab3efbb"
      },
      "outputs": [
        {
          "name": "stdout",
          "output_type": "stream",
          "text": [
            "{'name': 'Iphone 14', 'price': 70000, 'quantity': 1}\n"
          ]
        }
      ],
      "source": [
        "class Item:\n",
        "    def __init__(self, **kwargs):\n",
        "#         print(kwargs)\n",
        "        self.name = kwargs.get('name')\n",
        "        self.price = kwargs.get('price', 0)\n",
        "        self.quantity = kwargs.get('quantity', 1)\n",
        "    \n",
        "    def calculate_total_price(self):\n",
        "        return self.price * self.quantity\n",
        "\n",
        "phone = Item(name = 'Iphone 14', price = 70000)\n",
        "print(phone.__dict__)"
      ]
    },
    {
      "cell_type": "code",
      "execution_count": null,
      "id": "1a92fc39",
      "metadata": {
        "id": "1a92fc39",
        "outputId": "d7fca511-782a-4e7e-efe1-bff65f6c9de1"
      },
      "outputs": [
        {
          "name": "stdout",
          "output_type": "stream",
          "text": [
            "{'name': 'Iphone 14', 'price': 70000, 'quantity': 1}\n"
          ]
        }
      ],
      "source": [
        "class Item:\n",
        "    def __init__(self, name, price, quantity):\n",
        "        # assertion statements\n",
        "        \n",
        "        assert price >= 0, \"The price should be greater than or equal to 0\"\n",
        "        assert quantity > 0, \"The quantity should be greater than 0\"\n",
        "        \n",
        "        self.name = name\n",
        "        self.price = price\n",
        "        self.quantity = quantity\n",
        "    \n",
        "    def calculate_total_price(self):\n",
        "        return self.price * self.quantity\n",
        "    \n",
        "phone = Item('Iphone 14', 70000, 1)\n",
        "print(phone.__dict__)"
      ]
    },
    {
      "cell_type": "code",
      "execution_count": null,
      "id": "b33d22d6",
      "metadata": {
        "id": "b33d22d6",
        "outputId": "241ad112-6f4d-49ce-91d8-980d964669d6"
      },
      "outputs": [
        {
          "name": "stdout",
          "output_type": "stream",
          "text": [
            "discounted price is 32000.0\n",
            "64000.0\n",
            "discounted price is 1600.0\n",
            "1600.0\n"
          ]
        }
      ],
      "source": [
        "# class property -> is constant across the objects\n",
        "\n",
        "class Item:\n",
        "    discount = 0.2 # class property\n",
        "    def __init__(self, name, price, quantity):\n",
        "        # assertion statements\n",
        "        \n",
        "        assert price >= 0, \"The price should be greater than or equal to 0\"\n",
        "        assert quantity > 0, \"The quantity should be greater than 0\"\n",
        "        \n",
        "        self.name = name\n",
        "        self.price = price\n",
        "        self.quantity = quantity\n",
        "    \n",
        "    def calculate_total_price(self):\n",
        "        return self.price * self.quantity\n",
        "    \n",
        "    def apply_discount(self):\n",
        "        self.price = self.price - (self.price * Item.discount)\n",
        "        print('discounted price is', self.price)\n",
        "        \n",
        "phone = Item('Pixel 7', 40000, 2)\n",
        "phone.apply_discount()\n",
        "print(phone.calculate_total_price())\n",
        "\n",
        "charger = Item('Pixel charger', 2000, 1)\n",
        "charger.apply_discount()\n",
        "print(charger.calculate_total_price())"
      ]
    },
    {
      "cell_type": "code",
      "execution_count": 1,
      "id": "40b34fff",
      "metadata": {
        "id": "40b34fff",
        "outputId": "aeeb8ffd-c4fb-4ace-b34f-36967eb651eb",
        "colab": {
          "base_uri": "https://localhost:8080/"
        }
      },
      "outputs": [
        {
          "output_type": "stream",
          "name": "stdout",
          "text": [
            "discounted price is 20000.0\n",
            "20000.0\n",
            "discounted price is 1600.0\n",
            "4800.0\n"
          ]
        }
      ],
      "source": [
        "# class property -> is constant across the objects\n",
        "# class properties have higher priority if we use class.property(Item.discount)\n",
        "# Its always good to use (self) object properties because if it is not present, class property\n",
        "# will override the self property\n",
        "\n",
        "class Item:\n",
        "    discount = 0.2 # class property\n",
        "    def __init__(self, name, price, quantity):\n",
        "        # assertion statements\n",
        "        \n",
        "        assert price >= 0, \"The price should be greater than or equal to 0\"\n",
        "        assert quantity > 0, \"The quantity should be greater than 0\"\n",
        "        \n",
        "        self.name = name\n",
        "        self.price = price\n",
        "        self.quantity = quantity\n",
        "    \n",
        "    def calculate_total_price(self):\n",
        "        return self.price * self.quantity\n",
        "    \n",
        "    def apply_discount(self):\n",
        "        self.price = self.price - (self.price * self.discount)\n",
        "        print('discounted price is', self.price)\n",
        "        \n",
        "phone = Item('Pixel 7', 40000, 1)\n",
        "phone.discount = 0.5\n",
        "phone.apply_discount()\n",
        "print(phone.calculate_total_price())\n",
        "\n",
        "charger = Item('Pixel charger', 2000, 3)\n",
        "# charger.discount = 0.5\n",
        "charger.apply_discount()\n",
        "print(charger.calculate_total_price())"
      ]
    },
    {
      "cell_type": "code",
      "execution_count": null,
      "id": "9fca7b66",
      "metadata": {
        "id": "9fca7b66",
        "outputId": "367504dc-af46-4a37-f7ee-cb8e1ed3431c"
      },
      "outputs": [
        {
          "name": "stdout",
          "output_type": "stream",
          "text": [
            "neeraj 1234\n",
            "True\n"
          ]
        }
      ],
      "source": [
        "class ATM:\n",
        "    original_username = 'neeraj'\n",
        "    original_password = '1234'\n",
        "    \n",
        "    def __init__(self, username, password):\n",
        "        self.username = username\n",
        "        self.password = password\n",
        "        \n",
        "    def validate(self):\n",
        "        if(self.username == ATM.original_username and self.password == ATM.original_password):\n",
        "            return True\n",
        "        else:\n",
        "            return False\n",
        "        \n",
        "Neeraj = ATM('neeraj', '1234')\n",
        "# print(Neeraj.validate())\n",
        "\n",
        "Durgesh = ATM('durgesh', '5678')\n",
        "# print(Durgesh.validate())\n",
        "print(Durgesh.original_username, Durgesh.original_password)\n",
        "\n",
        "# Durgesh = ATM('neeraj', '1234')\n",
        "# print(Durgesh.validate())"
      ]
    },
    {
      "cell_type": "code",
      "execution_count": null,
      "id": "e71f46ce",
      "metadata": {
        "id": "e71f46ce"
      },
      "outputs": [],
      "source": [
        "# 4 "
      ]
    }
  ],
  "metadata": {
    "kernelspec": {
      "display_name": "Python 3 (ipykernel)",
      "language": "python",
      "name": "python3"
    },
    "language_info": {
      "codemirror_mode": {
        "name": "ipython",
        "version": 3
      },
      "file_extension": ".py",
      "mimetype": "text/x-python",
      "name": "python",
      "nbconvert_exporter": "python",
      "pygments_lexer": "ipython3",
      "version": "3.9.12"
    },
    "colab": {
      "provenance": []
    }
  },
  "nbformat": 4,
  "nbformat_minor": 5
}