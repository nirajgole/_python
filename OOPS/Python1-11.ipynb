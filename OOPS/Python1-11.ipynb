{
 "cells": [
  {
   "cell_type": "code",
   "execution_count": 1,
   "id": "1bc52170",
   "metadata": {},
   "outputs": [],
   "source": [
    "# data types, operators, conditional statement, loops, collection ()\n",
    "# functions, *args, **kwargs, lambda"
   ]
  },
  {
   "cell_type": "code",
   "execution_count": 2,
   "id": "ddcd46d9",
   "metadata": {},
   "outputs": [],
   "source": [
    "# paradigms -> way of writing the code\n",
    "# procedural programming\n",
    "# functional programming\n",
    "# OOPs -> Object Oriented Programming Structure"
   ]
  },
  {
   "cell_type": "code",
   "execution_count": 6,
   "id": "7fc7ea63",
   "metadata": {},
   "outputs": [
    {
     "name": "stdout",
     "output_type": "stream",
     "text": [
      "Enter the username: dasjkndkasj\n",
      "Enter the password: dasdasd\n",
      "Invalid username or password\n",
      "Enter the username: dasdas\n",
      "Enter the password: dasdasd\n",
      "Invalid username or password\n"
     ]
    }
   ],
   "source": [
    "# procedural programming -> C\n",
    "\n",
    "username = input('Enter the username: ')\n",
    "password = input('Enter the password: ')\n",
    "# API -> Application Programming Interface\n",
    "\n",
    "original_username = 'Sakshi'\n",
    "original_password = '1234'\n",
    "\n",
    "if(username == original_username and password == original_password):\n",
    "    print('Logged in')\n",
    "else:\n",
    "    print('Invalid username or password')\n",
    "    \n",
    "# lines written....\n",
    "    \n",
    "username = input('Enter the username: ')\n",
    "password = input('Enter the password: ')\n",
    "# API -> Application Programming Interface\n",
    "\n",
    "original_username = 'Dinesh'\n",
    "original_password = '5678'\n",
    "\n",
    "if(username == original_username and password == original_password):\n",
    "    print('Logged in')\n",
    "else:\n",
    "    print('Invalid username or password')\n",
    "    \n",
    "    \n",
    "username = input('Enter the username: ')\n",
    "password = input('Enter the password: ')\n",
    "# API -> Application Programming Interface\n",
    "\n",
    "original_username = 'Dinesh'\n",
    "original_password = '5678'\n",
    "\n",
    "if(username == original_username and password == original_password):\n",
    "    print('Logged in')\n",
    "else:\n",
    "    print('Invalid username or password')"
   ]
  },
  {
   "cell_type": "code",
   "execution_count": 8,
   "id": "a2dcd538",
   "metadata": {},
   "outputs": [
    {
     "name": "stdout",
     "output_type": "stream",
     "text": [
      "Enter the username: fasfad\n",
      "Enter the password: fafda\n",
      "invalid\n",
      "Enter the username: fafasd\n",
      "Enter the password: fafa\n",
      "invalid\n"
     ]
    }
   ],
   "source": [
    "# functional programming\n",
    "def validate(username, password):\n",
    "    # API -> Application Programming Interface\n",
    "    original_username = 'Sakshi'\n",
    "    original_password = '1234'\n",
    "    \n",
    "    if(username == original_username and password == original_password):\n",
    "        print('Logged in')\n",
    "    else:\n",
    "        print(\"invalid\")\n",
    "        \n",
    "def get_user_input():\n",
    "    username = input('Enter the username: ')\n",
    "    password = input('Enter the password: ')\n",
    "    validate(username, password)\n",
    "    \n",
    "for i in range(10):\n",
    "    get_user_input()"
   ]
  },
  {
   "cell_type": "code",
   "execution_count": 13,
   "id": "382a61a9",
   "metadata": {},
   "outputs": [
    {
     "name": "stdout",
     "output_type": "stream",
     "text": [
      "charger 5000 2 10000\n"
     ]
    }
   ],
   "source": [
    "# Object Oriented Programming\n",
    "item = 'Iphone 14'\n",
    "item_price = 70000\n",
    "item_quantity = 2\n",
    "item_total_price = item_price * item_quantity\n",
    "\n",
    "# print(item, item_price, item_quantity, item_total_price)\n",
    "\n",
    "item2 = 'charger'\n",
    "item2_price = 5000\n",
    "item2_quantity = 2\n",
    "item2_total_price = item2_price * item2_quantity\n",
    "print(item2, item2_price, item2_quantity, item2_total_price)"
   ]
  },
  {
   "cell_type": "code",
   "execution_count": 21,
   "id": "72ba84dc",
   "metadata": {},
   "outputs": [
    {
     "name": "stdout",
     "output_type": "stream",
     "text": [
      "0\n",
      "5\n",
      "15\n",
      "35\n"
     ]
    }
   ],
   "source": [
    "# *args\n",
    "def add(*nums):\n",
    "    total = 0\n",
    "    for num in nums:\n",
    "        total += num\n",
    "    return total\n",
    "\n",
    "print(add())\n",
    "print(add(5))\n",
    "print(add(5 ,10))\n",
    "print(add(5, 10, 20))"
   ]
  },
  {
   "cell_type": "code",
   "execution_count": 45,
   "id": "2b38d675",
   "metadata": {},
   "outputs": [
    {
     "name": "stdout",
     "output_type": "stream",
     "text": [
      "Welcome to intellipaat Vishnu. Your id is 10\n"
     ]
    }
   ],
   "source": [
    "# **kwargs -> key word arguments\n",
    "def welcome(**details):\n",
    "#     print(details) # dict\n",
    "    print(f'Welcome to intellipaat {details.get(\"name\")}. Your id is {details.get(\"student_id\")}')\n",
    "    \n",
    "welcome(student_id = 10, name = \"Vishnu\", place = 'India')"
   ]
  },
  {
   "cell_type": "code",
   "execution_count": 40,
   "id": "9062d610",
   "metadata": {},
   "outputs": [
    {
     "ename": "TypeError",
     "evalue": "sort() takes no positional arguments",
     "output_type": "error",
     "traceback": [
      "\u001b[1;31m---------------------------------------------------------------------------\u001b[0m",
      "\u001b[1;31mTypeError\u001b[0m                                 Traceback (most recent call last)",
      "Input \u001b[1;32mIn [40]\u001b[0m, in \u001b[0;36m<cell line: 3>\u001b[1;34m()\u001b[0m\n\u001b[0;32m      1\u001b[0m names \u001b[38;5;241m=\u001b[39m [\u001b[38;5;124m'\u001b[39m\u001b[38;5;124mbhuvi\u001b[39m\u001b[38;5;124m'\u001b[39m, \u001b[38;5;124m'\u001b[39m\u001b[38;5;124mjadeja\u001b[39m\u001b[38;5;124m'\u001b[39m, \u001b[38;5;124m'\u001b[39m\u001b[38;5;124mDhoni\u001b[39m\u001b[38;5;124m'\u001b[39m]\n\u001b[0;32m      2\u001b[0m \u001b[38;5;66;03m# names.sort(key=str.lower, reverse=True)\u001b[39;00m\n\u001b[1;32m----> 3\u001b[0m \u001b[43mnames\u001b[49m\u001b[38;5;241;43m.\u001b[39;49m\u001b[43msort\u001b[49m\u001b[43m(\u001b[49m\u001b[38;5;28;43;01mTrue\u001b[39;49;00m\u001b[43m,\u001b[49m\u001b[43m \u001b[49m\u001b[38;5;28;43mstr\u001b[39;49m\u001b[38;5;241;43m.\u001b[39;49m\u001b[43mlower\u001b[49m\u001b[43m)\u001b[49m\n\u001b[0;32m      4\u001b[0m \u001b[38;5;28mprint\u001b[39m(names)\n",
      "\u001b[1;31mTypeError\u001b[0m: sort() takes no positional arguments"
     ]
    }
   ],
   "source": [
    "names = ['bhuvi', 'jadeja', 'Dhoni']\n",
    "# names.sort(key=str.lower, reverse=True)\n",
    "names.sort(True, str.lower)\n",
    "print(names)"
   ]
  },
  {
   "cell_type": "code",
   "execution_count": 47,
   "id": "e8c46495",
   "metadata": {},
   "outputs": [
    {
     "name": "stdout",
     "output_type": "stream",
     "text": [
      "<__main__.Human object at 0x0000019CF7090580> <class '__main__.Human'>\n"
     ]
    }
   ],
   "source": [
    "# OOPS\n",
    "# class -> blueprint(how the object is gonna look and behave)\n",
    "# object -> the real person\n",
    "# attribute/properties -> variables written inside a class\n",
    "# behaviours/methods -> functions written inside a class\n",
    "\n",
    "\n",
    "class Human:\n",
    "    name = 'vasanth'\n",
    "    age = 10\n",
    "    gender = 'male'\n",
    "    \n",
    "    def play():\n",
    "        print('playing cricket')\n",
    "\n",
    "    def eat():\n",
    "        print('eating 2 idli')\n",
    "\n",
    "\n",
    "vasanth = Human()\n",
    "print(vasanth, type(vasanth))"
   ]
  },
  {
   "cell_type": "code",
   "execution_count": 59,
   "id": "fc0f1147",
   "metadata": {},
   "outputs": [
    {
     "name": "stdout",
     "output_type": "stream",
     "text": [
      "<class 'bool'>\n",
      "<class 'str'>\n"
     ]
    }
   ],
   "source": [
    "num = True\n",
    "print(type(num))\n",
    "\n",
    "name = str('avsadabdkaj')\n",
    "print(type(name))\n",
    "\n",
    "\n",
    "# class int:\n",
    "#     nfak,nfa\n",
    "    \n",
    "# class str:\n",
    "#     dja,knda\n",
    "    \n",
    "    "
   ]
  },
  {
   "cell_type": "code",
   "execution_count": 91,
   "id": "3eb7c91a",
   "metadata": {},
   "outputs": [
    {
     "name": "stdout",
     "output_type": "stream",
     "text": [
      "5000\n"
     ]
    }
   ],
   "source": [
    "# whenever we call a method -> the calling object itself passed as a first parameter\n",
    "\n",
    "class Item:\n",
    "    def calculate_total_price(self):\n",
    "#         print('obj  ', self.__dict__)\n",
    "        return self.price * self.quantity\n",
    "\n",
    "phone = Item()\n",
    "phone.name = 'Iphone 14'\n",
    "phone.quantity = 2\n",
    "phone.price = 70000\n",
    "\n",
    "# print(phone.name, phone.quantity, phone.price)\n",
    "# dunder -> double under methods\n",
    "# print(phone.__dict__)\n",
    "\n",
    "# print('phone', phone)\n",
    "# print(phone.calculate_total_price())\n",
    "\n",
    "charger = Item()\n",
    "charger.name = 'Iphone charger'\n",
    "charger.quantity = 1\n",
    "charger.price = 5000\n",
    "# print(charger.__dict__)\n",
    "\n",
    "print(charger.calculate_total_price())"
   ]
  },
  {
   "cell_type": "code",
   "execution_count": 75,
   "id": "8b4b9f7d",
   "metadata": {},
   "outputs": [
    {
     "name": "stdout",
     "output_type": "stream",
     "text": [
      "True\n",
      "True\n"
     ]
    }
   ],
   "source": [
    "num = 20\n",
    "print(num >= 20)\n",
    "print(num.__eq__(20))"
   ]
  },
  {
   "cell_type": "code",
   "execution_count": 100,
   "id": "5c9c51ce",
   "metadata": {},
   "outputs": [
    {
     "name": "stdout",
     "output_type": "stream",
     "text": [
      "total price\n",
      "70000\n",
      "total price\n",
      "5000\n"
     ]
    }
   ],
   "source": [
    "# constructor -> is a place where memory is going to get created whenever an object is created\n",
    "\n",
    "class Item:\n",
    "    def __init__(self, name, price, quantity):\n",
    "#         print('constructor called', self)\n",
    "        self.name = name\n",
    "        self.price = price\n",
    "        self.quantity = quantity\n",
    "    \n",
    "    def calculate_total_price(self):\n",
    "        print('total price')\n",
    "        return self.price * self.quantity\n",
    "    \n",
    "phone = Item('Iphone 14', 70000, 1)\n",
    "charger = Item('Iphone charger', 5000, 1)\n",
    "tomato = Item('tomato', 20, 1)\n",
    "# print(phone.__dict__)\n",
    "# print(charger.__dict__)\n",
    "# print(tomato.__dict__)\n",
    "print(phone.calculate_total_price())\n",
    "print(charger.calculate_total_price())"
   ]
  },
  {
   "cell_type": "code",
   "execution_count": 105,
   "id": "4a744de1",
   "metadata": {},
   "outputs": [
    {
     "name": "stdout",
     "output_type": "stream",
     "text": [
      "{'name': 'Iphone 14', 'price': 70000, 'quantity': 1, 'is_backcase_present': False}\n",
      "{'name': 'moto g3', 'price': 15000, 'quantity': 1, 'is_backcase_present': True}\n",
      "{'name': 'tomato', 'price': 20, 'quantity': 1}\n"
     ]
    }
   ],
   "source": [
    "class Item:\n",
    "    def __init__(self, name, price, quantity):\n",
    "        self.name = name\n",
    "        self.price = price\n",
    "        self.quantity = quantity\n",
    "    \n",
    "    def calculate_total_price(self):\n",
    "        return self.price * self.quantity\n",
    "    \n",
    "phone = Item('Iphone 14', 70000, 1)\n",
    "phone.is_backcase_present = False # self or object properties\n",
    "print(phone.__dict__)\n",
    "moto_g3 = Item(\"moto g3\", 15000, 1)\n",
    "moto_g3.is_backcase_present = True\n",
    "print(moto_g3.__dict__)\n",
    "tomato = Item('tomato', 20, 1)\n",
    "print(tomato.__dict__)"
   ]
  },
  {
   "cell_type": "code",
   "execution_count": 118,
   "id": "1ab52fe1",
   "metadata": {},
   "outputs": [
    {
     "name": "stdout",
     "output_type": "stream",
     "text": [
      "{'name': 'Iphone 14', 'price': 70000, 'quantity': 1}\n"
     ]
    }
   ],
   "source": [
    "class Item:\n",
    "    def __init__(self, **kwargs):\n",
    "#         print(kwargs)\n",
    "        self.name = kwargs.get('name')\n",
    "        self.price = kwargs.get('price', 0)\n",
    "        self.quantity = kwargs.get('quantity', 1)\n",
    "    \n",
    "    def calculate_total_price(self):\n",
    "        return self.price * self.quantity\n",
    "\n",
    "phone = Item(name = 'Iphone 14', price = 70000)\n",
    "print(phone.__dict__)"
   ]
  },
  {
   "cell_type": "code",
   "execution_count": 130,
   "id": "008cabf5",
   "metadata": {},
   "outputs": [
    {
     "name": "stdout",
     "output_type": "stream",
     "text": [
      "{'name': 'Iphone 14', 'price': 70000, 'quantity': 1}\n"
     ]
    }
   ],
   "source": [
    "class Item:\n",
    "    def __init__(self, name, price, quantity):\n",
    "        # assertion statements\n",
    "        \n",
    "        assert price >= 0, \"The price should be greater than or equal to 0\"\n",
    "        assert quantity > 0, \"The quantity should be greater than 0\"\n",
    "        \n",
    "        self.name = name\n",
    "        self.price = price\n",
    "        self.quantity = quantity\n",
    "    \n",
    "    def calculate_total_price(self):\n",
    "        return self.price * self.quantity\n",
    "    \n",
    "phone = Item('Iphone 14', 70000, 1)\n",
    "print(phone.__dict__)"
   ]
  },
  {
   "cell_type": "code",
   "execution_count": 140,
   "id": "0b9448c7",
   "metadata": {},
   "outputs": [
    {
     "name": "stdout",
     "output_type": "stream",
     "text": [
      "discounted price is 32000.0\n",
      "64000.0\n",
      "discounted price is 1600.0\n",
      "1600.0\n"
     ]
    }
   ],
   "source": [
    "# class property -> is constant across the objects\n",
    "\n",
    "class Item:\n",
    "    discount = 0.2 # class property\n",
    "    def __init__(self, name, price, quantity):\n",
    "        # assertion statements\n",
    "        \n",
    "        assert price >= 0, \"The price should be greater than or equal to 0\"\n",
    "        assert quantity > 0, \"The quantity should be greater than 0\"\n",
    "        \n",
    "        self.name = name\n",
    "        self.price = price\n",
    "        self.quantity = quantity\n",
    "    \n",
    "    def calculate_total_price(self):\n",
    "        return self.price * self.quantity\n",
    "    \n",
    "    def apply_discount(self):\n",
    "        self.price = self.price - (self.price * Item.discount)\n",
    "        print('discounted price is', self.price)\n",
    "        \n",
    "phone = Item('Pixel 7', 40000, 2)\n",
    "phone.apply_discount()\n",
    "print(phone.calculate_total_price())\n",
    "\n",
    "charger = Item('Pixel charger', 2000, 1)\n",
    "charger.apply_discount()\n",
    "print(charger.calculate_total_price())"
   ]
  },
  {
   "cell_type": "code",
   "execution_count": 151,
   "id": "b9700df3",
   "metadata": {},
   "outputs": [
    {
     "name": "stdout",
     "output_type": "stream",
     "text": [
      "discounted price is 20000.0\n",
      "20000.0\n",
      "discounted price is 1600.0\n",
      "1600.0\n"
     ]
    }
   ],
   "source": [
    "# class property -> is constant across the objects\n",
    "# class properties have higher priority if we use class.property(Item.discount)\n",
    "# Its always good to use (self) object properties because if it is not present, class property\n",
    "# will override the self property\n",
    "\n",
    "class Item:\n",
    "    discount = 0.2 # class property\n",
    "    def __init__(self, name, price, quantity):\n",
    "        # assertion statements\n",
    "        \n",
    "        assert price >= 0, \"The price should be greater than or equal to 0\"\n",
    "        assert quantity > 0, \"The quantity should be greater than 0\"\n",
    "        \n",
    "        self.name = name\n",
    "        self.price = price\n",
    "        self.quantity = quantity\n",
    "    \n",
    "    def calculate_total_price(self):\n",
    "        return self.price * self.quantity\n",
    "    \n",
    "    def apply_discount(self):\n",
    "        self.price = self.price - (self.price * self.discount)\n",
    "        print('discounted price is', self.price)\n",
    "        \n",
    "phone = Item('Pixel 7', 40000, 1)\n",
    "phone.discount = 0.5\n",
    "phone.apply_discount()\n",
    "print(phone.calculate_total_price())\n",
    "\n",
    "charger = Item('Pixel charger', 2000, 1)\n",
    "# charger.discount = 0.5\n",
    "charger.apply_discount()\n",
    "print(charger.calculate_total_price())"
   ]
  },
  {
   "cell_type": "code",
   "execution_count": 1,
   "id": "c26ccdd8",
   "metadata": {},
   "outputs": [
    {
     "name": "stdout",
     "output_type": "stream",
     "text": [
      "neeraj 1234\n"
     ]
    }
   ],
   "source": [
    "class ATM:\n",
    "    original_username = 'neeraj'\n",
    "    original_password = '1234'\n",
    "    \n",
    "    def __init__(self, username, password):\n",
    "        self.username = username\n",
    "        self.password = password\n",
    "        \n",
    "    def validate(self):\n",
    "        if(self.username == ATM.original_username and self.password == ATM.original_password):\n",
    "            return True\n",
    "        else:\n",
    "            return False\n",
    "        \n",
    "Neeraj = ATM('neeraj', '1234')\n",
    "# print(Neeraj.validate())\n",
    "\n",
    "Durgesh = ATM('durgesh', '5678')\n",
    "# print(Durgesh.validate())\n",
    "print(Durgesh.original_username, Durgesh.original_password)\n",
    "\n",
    "# Durgesh = ATM('neeraj', '1234')\n",
    "# print(Durgesh.validate())"
   ]
  },
  {
   "cell_type": "code",
   "execution_count": 2,
   "id": "93d46478",
   "metadata": {},
   "outputs": [],
   "source": [
    "# 4 pillars of OOPs\n",
    "# 1. Encapsulation\n",
    "# 2. Inheritance\n",
    "# 3. Polymorphism\n",
    "# 4. Abstraction"
   ]
  },
  {
   "cell_type": "code",
   "execution_count": 5,
   "id": "801ce853",
   "metadata": {},
   "outputs": [
    {
     "name": "stdout",
     "output_type": "stream",
     "text": [
      "30\n",
      "25\n"
     ]
    }
   ],
   "source": [
    "from basic.arithmetic import add, sub, Vasanth\n",
    "\n",
    "print(add(10, 20))\n",
    "print(sub(30, 5))\n",
    "\n",
    "class Human(Vasanth):\n",
    "    "
   ]
  },
  {
   "cell_type": "code",
   "execution_count": null,
   "id": "242405bb",
   "metadata": {},
   "outputs": [],
   "source": []
  }
 ],
 "metadata": {
  "kernelspec": {
   "display_name": "Python 3 (ipykernel)",
   "language": "python",
   "name": "python3"
  },
  "language_info": {
   "codemirror_mode": {
    "name": "ipython",
    "version": 3
   },
   "file_extension": ".py",
   "mimetype": "text/x-python",
   "name": "python",
   "nbconvert_exporter": "python",
   "pygments_lexer": "ipython3",
   "version": "3.9.12"
  }
 },
 "nbformat": 4,
 "nbformat_minor": 5
}
