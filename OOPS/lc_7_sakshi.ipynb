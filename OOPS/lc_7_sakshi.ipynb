{
 "cells": [
  {
   "cell_type": "code",
   "execution_count": 24,
   "metadata": {},
   "outputs": [],
   "source": [
    "# multiple inheritance\n",
    "\n",
    "class Father:\n",
    "    def __init__(self, name, age):\n",
    "        self.name = name\n",
    "        self.age = age\n",
    "\n",
    "    def __str__(self):\n",
    "        return f\"{self.name} is {self.age} years old.\"\n",
    "\n",
    "    def __repr__(self):\n",
    "        return f\"I'm your pappa\"\n",
    "\n",
    "    def father_method(self):\n",
    "        return 'Hello from father'\n",
    "\n",
    "\n",
    "class Mother:\n",
    "    def __init__(self, name, age):\n",
    "        self.name = name\n",
    "        self.age = age\n",
    "\n",
    "    def __str__(self):\n",
    "        return f\"{self.name} is {self.age} years old.\"\n",
    "\n",
    "    def __repr__(self):\n",
    "        return f\"I'm your mamma\"\n",
    "\n",
    "    def mother_method(self):\n",
    "        return 'Hi from mother'\n",
    "\n",
    "\n",
    "class Child(Father, Mother):\n",
    "    def __init__(self, name, age, gender):\n",
    "        super().__init__(name, age)\n",
    "        self.gender = gender\n",
    "\n",
    "    def __repr__(self):\n",
    "        return f'My pronunciation is {self.gender}'"
   ]
  },
  {
   "cell_type": "code",
   "execution_count": 27,
   "metadata": {},
   "outputs": [
    {
     "data": {
      "text/plain": [
       "My pronunciation is Male"
      ]
     },
     "execution_count": 27,
     "metadata": {},
     "output_type": "execute_result"
    }
   ],
   "source": [
    "c1 = Child('Brad', 56, 'Male')\n",
    "c1"
   ]
  },
  {
   "cell_type": "code",
   "execution_count": 28,
   "metadata": {},
   "outputs": [
    {
     "name": "stdout",
     "output_type": "stream",
     "text": [
      "Brad is 56 years old.\n",
      "Hello from father\n",
      "Hi from mother\n"
     ]
    }
   ],
   "source": [
    "print(c1)\n",
    "print(c1.father_method())\n",
    "print(c1.mother_method())"
   ]
  },
  {
   "cell_type": "code",
   "execution_count": 2,
   "metadata": {},
   "outputs": [
    {
     "name": "stdout",
     "output_type": "stream",
     "text": [
      "\n",
      "\n",
      "None\n"
     ]
    }
   ],
   "source": [
    "print()\n",
    "print(print())"
   ]
  },
  {
   "cell_type": "code",
   "execution_count": 32,
   "metadata": {},
   "outputs": [],
   "source": [
    "# ABSTRACTION\n",
    "\n",
    "from abc import ABC, abstractmethod\n",
    "\n",
    "\n",
    "class template(ABC):\n",
    "    @abstractmethod\n",
    "    def abs_method(self):\n",
    "        print(\"abs_method\")\n",
    "\n",
    "\n",
    "class child(template):\n",
    "    def abs_method(self):\n",
    "        print(\"abs_method\")"
   ]
  }
 ],
 "metadata": {
  "kernelspec": {
   "display_name": "base",
   "language": "python",
   "name": "python3"
  },
  "language_info": {
   "codemirror_mode": {
    "name": "ipython",
    "version": 3
   },
   "file_extension": ".py",
   "mimetype": "text/x-python",
   "name": "python",
   "nbconvert_exporter": "python",
   "pygments_lexer": "ipython3",
   "version": "3.10.9"
  },
  "orig_nbformat": 4
 },
 "nbformat": 4,
 "nbformat_minor": 2
}
