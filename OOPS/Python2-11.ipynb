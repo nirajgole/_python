{
 "cells": [
  {
   "cell_type": "code",
   "execution_count": 37,
   "id": "8b66ee84",
   "metadata": {},
   "outputs": [
    {
     "name": "stdout",
     "output_type": "stream",
     "text": [
      "Username changed successfully\n",
      "Password changed successfully\n",
      "Neeraj\n",
      "5678\n"
     ]
    },
    {
     "ename": "AttributeError",
     "evalue": "'ATM' object has no attribute '__validate'",
     "output_type": "error",
     "traceback": [
      "\u001b[1;31m---------------------------------------------------------------------------\u001b[0m",
      "\u001b[1;31mAttributeError\u001b[0m                            Traceback (most recent call last)",
      "Input \u001b[1;32mIn [37]\u001b[0m, in \u001b[0;36m<cell line: 52>\u001b[1;34m()\u001b[0m\n\u001b[0;32m     46\u001b[0m \u001b[38;5;28mprint\u001b[39m(Neeraj\u001b[38;5;241m.\u001b[39mget_original_password())\n\u001b[0;32m     47\u001b[0m \u001b[38;5;66;03m# print(Neeraj.set_original_username('Neeraj'))\u001b[39;00m\n\u001b[0;32m     48\u001b[0m \u001b[38;5;66;03m# print(Neeraj.set_original_password('5678'))\u001b[39;00m\n\u001b[0;32m     49\u001b[0m \u001b[38;5;66;03m# print(Neeraj.get_original_username())\u001b[39;00m\n\u001b[0;32m     50\u001b[0m \u001b[38;5;66;03m# print(Neeraj.get_original_password())\u001b[39;00m\n\u001b[0;32m     51\u001b[0m \u001b[38;5;66;03m# print(Neeraj.username)\u001b[39;00m\n\u001b[1;32m---> 52\u001b[0m \u001b[38;5;28mprint\u001b[39m(\u001b[43mNeeraj\u001b[49m\u001b[38;5;241;43m.\u001b[39;49m\u001b[43m__validate\u001b[49m())\n",
      "\u001b[1;31mAttributeError\u001b[0m: 'ATM' object has no attribute '__validate'"
     ]
    }
   ],
   "source": [
    "# Encapsulation -> public by default\n",
    "# In order to make a property or method private(only accessed by class) we should add __(dunder)\n",
    "class ATM:\n",
    "    __original_username = 'neeraj' #private\n",
    "    __original_password = '1234'\n",
    "    \n",
    "    def __init__(self, username, password):\n",
    "        self.username = username\n",
    "        self.password = password\n",
    "        \n",
    "    # getters\n",
    "    def get_original_username(self):\n",
    "        if(self.__validate() == True):\n",
    "            return ATM.__original_username\n",
    "        return 'Unauthorised'\n",
    "    \n",
    "    def get_original_password(self):\n",
    "        if(self.__validate()):\n",
    "            return ATM.__original_password\n",
    "        return 'Unauthorised'\n",
    "    \n",
    "    # setters\n",
    "    def set_original_username(self, new_username):\n",
    "        if(self.__validate()):\n",
    "            self.username = new_username\n",
    "            ATM.__original_username = new_username\n",
    "            return 'Username changed successfully'\n",
    "        return 'Unauthorised'\n",
    "    \n",
    "    def set_original_password(self, new_password):\n",
    "        if(self.__validate()):\n",
    "            self.password = new_password\n",
    "            ATM.__original_password = new_password\n",
    "            return 'Password changed successfully'\n",
    "        return 'Unauthorised'\n",
    "    \n",
    "    def __validate(self): # private method\n",
    "        if(self.username == ATM.__original_username and self.password == ATM.__original_password):\n",
    "            return True\n",
    "        return False\n",
    "        \n",
    "Neeraj = ATM('neeraj', '1234')\n",
    "print(Neeraj.set_original_username('Neeraj'))\n",
    "print(Neeraj.set_original_password('5678'))\n",
    "print(Neeraj.get_original_username())\n",
    "print(Neeraj.get_original_password())\n",
    "# print(Neeraj.set_original_username('Neeraj'))\n",
    "# print(Neeraj.set_original_password('5678'))\n",
    "# print(Neeraj.get_original_username())\n",
    "# print(Neeraj.get_original_password())\n",
    "# print(Neeraj.username)\n",
    "# print(Neeraj.__validate())\n",
    "\n",
    "# Durgesh = ATM('durgesh', '5678')\n",
    "# print(Durgesh.get_original_username())\n",
    "# print(Durgesh.get_original_password())\n",
    "# print(Durgesh.set_original_username('Durgesh'))\n",
    "# # print(Durgesh.validate())\n",
    "# print(Durgesh.__original_username, Durgesh.__original_password)"
   ]
  },
  {
   "cell_type": "code",
   "execution_count": 41,
   "id": "097d57fa",
   "metadata": {},
   "outputs": [
    {
     "name": "stdout",
     "output_type": "stream",
     "text": [
      "{'name': 'Iphone 14', 'price': 70000, 'quantity': 1, 'ram': '4gb', 'rom': '128gb', 'processor': 'A14 bionic'}\n",
      "{'name': 'Pixel 7a', 'price': 40000, 'quantity': 1, 'ram': '8gb', 'rom': '128gb', 'processor': 'Tensor G2'}\n"
     ]
    }
   ],
   "source": [
    "# Inheritance\n",
    "\n",
    "class Item:\n",
    "    discount = 0.2 # class property\n",
    "    def __init__(self, name, price, quantity):\n",
    "        # assertion statements\n",
    "        \n",
    "        assert price >= 0, \"The price should be greater than or equal to 0\"\n",
    "        assert quantity > 0, \"The quantity should be greater than 0\"\n",
    "        \n",
    "        self.name = name\n",
    "        self.price = price\n",
    "        self.quantity = quantity\n",
    "    \n",
    "    def calculate_total_price(self):\n",
    "        return self.price * self.quantity\n",
    "    \n",
    "    def apply_discount(self):\n",
    "        self.price = self.price - (self.price * self.discount)\n",
    "        print('discounted price is', self.price)\n",
    "        \n",
    "# Inheritance\n",
    "class Phone(Item):\n",
    "    def __init__(self, name, price, quantity, ram, rom, processor):\n",
    "        # assertion statements\n",
    "        \n",
    "        assert price >= 0, \"The price should be greater than or equal to 0\"\n",
    "        assert quantity > 0, \"The quantity should be greater than 0\"\n",
    "        \n",
    "        self.name = name\n",
    "        self.price = price\n",
    "        self.quantity = quantity\n",
    "        self.ram = ram\n",
    "        self.rom = rom\n",
    "        self.processor = processor\n",
    "    \n",
    "    def calculate_total_price(self):\n",
    "        return self.price * self.quantity\n",
    "    \n",
    "    def apply_discount(self):\n",
    "        self.price = self.price - (self.price * self.discount)\n",
    "        print('discounted price is', self.price)\n",
    "        \n",
    "phone = Phone('Iphone 14', 70000, 1, '4gb', '128gb', 'A14 bionic')\n",
    "print(phone.__dict__)\n",
    "\n",
    "pixel = Phone(\"Pixel 7a\", 40000, 1, '8gb', '128gb', 'Tensor G2')\n",
    "print(pixel.__dict__)"
   ]
  },
  {
   "cell_type": "code",
   "execution_count": 51,
   "id": "f80b6899",
   "metadata": {},
   "outputs": [
    {
     "name": "stdout",
     "output_type": "stream",
     "text": [
      "{'name': 'tomato', 'price': 20, 'quantity': 1}\n",
      "{'price': 70000, 'ram': '4gb', 'rom': '128gb', 'processor': 'A14 bionic', 'name': 'Iphone 14', 'quantity': 1}\n",
      "{'price': 40000, 'ram': '8gb', 'rom': '128gb', 'processor': 'Tensor G2', 'name': 'Pixel 7a', 'quantity': 1}\n"
     ]
    }
   ],
   "source": [
    "# Inheritance\n",
    "\n",
    "class Item:\n",
    "    discount = 0.2 # class property\n",
    "    def __init__(self, name, price, quantity):\n",
    "        # assertion statements\n",
    "#         print('Item constructor')\n",
    "        assert price >= 0, \"The price should be greater than or equal to 0\"\n",
    "        assert quantity > 0, \"The quantity should be greater than 0\"\n",
    "        \n",
    "        self.name = name\n",
    "        self.price = price\n",
    "        self.quantity = quantity\n",
    "    \n",
    "    def calculate_total_price(self):\n",
    "        return self.price * self.quantity\n",
    "    \n",
    "    def apply_discount(self):\n",
    "        self.price = self.price - (self.price * self.discount)\n",
    "        print('discounted price is', self.price)\n",
    "        \n",
    "# Inheritance\n",
    "class Phone(Item):\n",
    "    def __init__(self, name, price, quantity, ram, rom, processor):\n",
    "#         print('Phone constructor')\n",
    "        # super => parent\n",
    "        super().__init__(name, price, quantity)\n",
    "        self.price = price + 1000 # GST\n",
    "        self.ram = ram\n",
    "        self.rom = rom\n",
    "        self.processor = processor\n",
    "        \n",
    "        \n",
    "tomato = Item('tomato', 20, 1)\n",
    "print(tomato.__dict__)\n",
    "\n",
    "phone = Phone('Iphone 14', 70000, 1, '4gb', '128gb', 'A14 bionic')\n",
    "print(phone.__dict__)\n",
    "\n",
    "pixel = Phone(\"Pixel 7a\", 40000, 1, '8gb', '128gb', 'Tensor G2')\n",
    "print(pixel.__dict__)"
   ]
  },
  {
   "cell_type": "code",
   "execution_count": 68,
   "id": "a9900380",
   "metadata": {},
   "outputs": [
    {
     "name": "stdout",
     "output_type": "stream",
     "text": [
      "self name--> parent Parent house\n",
      "Parent house\n",
      "child {'name': 'child', 'house': 'Child house'}\n",
      "self name--> child Child house\n"
     ]
    }
   ],
   "source": [
    "# Types of inheritance -> Single, multilevel, multiple, hierarchical\n",
    "# by default methods will be passed to the child\n",
    "# Single level\n",
    "class Parent:\n",
    "    def __init__(self):\n",
    "        self.name = 'parent'\n",
    "        self.house = 'Parent house'\n",
    "        \n",
    "    def display(self):\n",
    "#         print('self -->', self.__dict__)\n",
    "        print('self name-->', self.name, self.house)\n",
    "        \n",
    "class Child(Parent):\n",
    "    def __init__(self):\n",
    "#         super().__init__()\n",
    "        self.name = 'child'\n",
    "        self.house = 'Child house'\n",
    "        \n",
    "parent = Parent()\n",
    "# print(parent.name, parent.__dict__)\n",
    "# print('parent calling')\n",
    "parent.display()\n",
    "print(parent.house)\n",
    "\n",
    "child = Child()\n",
    "print(child.name, child.__dict__)\n",
    "# print('child calling')\n",
    "child.display()\n",
    "# print(child.house)"
   ]
  },
  {
   "cell_type": "code",
   "execution_count": 78,
   "id": "ea3e8293",
   "metadata": {},
   "outputs": [
    {
     "name": "stdout",
     "output_type": "stream",
     "text": [
      "Yamaha R3 Maruti 800 Own house\n"
     ]
    }
   ],
   "source": [
    "# multilevel inheritance\n",
    "class GrandParent:\n",
    "    def __init__(self):\n",
    "        self.house = 'Own house'\n",
    "        \n",
    "class Parent(GrandParent):\n",
    "    def __init__(self):\n",
    "        super().__init__()\n",
    "        self.car = 'Maruti 800'\n",
    "        \n",
    "class Child(Parent):\n",
    "    def __init__(self):\n",
    "        super().__init__()\n",
    "        self.bike = 'Yamaha R3'\n",
    "        \n",
    "# gp = GrandParent()\n",
    "# print(gp.house)\n",
    "\n",
    "# parent = Parent()\n",
    "# print(parent.car, parent.house)\n",
    "\n",
    "child = Child()\n",
    "print(child.bike, child.car, child.house)"
   ]
  },
  {
   "cell_type": "code",
   "execution_count": 99,
   "id": "cef6df5a",
   "metadata": {},
   "outputs": [
    {
     "name": "stdout",
     "output_type": "stream",
     "text": [
      "Playing with father\n"
     ]
    }
   ],
   "source": [
    "# multiple inheritance\n",
    "class Father:\n",
    "    def __init__(self):\n",
    "        self.name = 'Father'\n",
    "        \n",
    "    def play(self):\n",
    "        print('Playing with father')\n",
    "        \n",
    "class Mother:\n",
    "    def __init__(self):\n",
    "        self.name = 'Mother'\n",
    "        self.love = 'mother love'\n",
    "        \n",
    "    def play(self):\n",
    "        print('Playing with mother')\n",
    "        \n",
    "class Child(Father, Mother):\n",
    "    def __init__(self):\n",
    "        # super().__init__()\n",
    "        Mother.__init__(self)\n",
    "        Father.__init__(self)\n",
    "    \n",
    "    def display(self):\n",
    "        print(self.name, self.love)\n",
    "        \n",
    "child = Child()\n",
    "# child.display()\n",
    "child.play()"
   ]
  },
  {
   "cell_type": "code",
   "execution_count": 101,
   "id": "66527821",
   "metadata": {},
   "outputs": [
    {
     "name": "stdout",
     "output_type": "stream",
     "text": [
      "parent USA\n",
      "parent India\n"
     ]
    }
   ],
   "source": [
    "# hierarchical inheritance\n",
    "class Parent:\n",
    "    def __init__(self):\n",
    "        self.name = 'parent'\n",
    "    \n",
    "    def display(self):\n",
    "        print(self.name, self.country)\n",
    "        \n",
    "class Child1(Parent):\n",
    "    def __init__(self):\n",
    "        super().__init__()\n",
    "        self.country = 'USA'\n",
    "        \n",
    "class Child2(Parent):\n",
    "    def __init__(self):\n",
    "        super().__init__()\n",
    "        self.country = 'India'\n",
    "\n",
    "child1 = Child1()\n",
    "child1.display()\n",
    "\n",
    "child2 = Child2()\n",
    "child2.display()"
   ]
  },
  {
   "cell_type": "code",
   "execution_count": 103,
   "id": "4510b81f",
   "metadata": {},
   "outputs": [
    {
     "name": "stdout",
     "output_type": "stream",
     "text": [
      "child playing cricket\n"
     ]
    }
   ],
   "source": [
    "# Polymorphism -> many forms\n",
    "class Parent:\n",
    "    def play(self):\n",
    "        print('parent playing')\n",
    "        \n",
    "class Child(Parent):\n",
    "    # method overriding\n",
    "    def play(self, game):\n",
    "        print('child playing', game)\n",
    "        \n",
    "child = Child()\n",
    "child.play('cricket')\n",
    "\n",
    "# method overloading -> same method name with different parameters\n",
    "# In Python method over loading is not supported"
   ]
  },
  {
   "cell_type": "code",
   "execution_count": 119,
   "id": "307bf1af",
   "metadata": {},
   "outputs": [
    {
     "name": "stdout",
     "output_type": "stream",
     "text": [
      "Doing some analysis on Laptop process\n"
     ]
    }
   ],
   "source": [
    "# Abstraction\n",
    "# abstract class -> can't be instantiated -> object cant be created\n",
    "# ABC -> Abstract Base Class should be inherited\n",
    "# Atleast 1 abstract method\n",
    "\n",
    "from abc import ABC, abstractmethod\n",
    "\n",
    "class Computer(ABC):\n",
    "    \n",
    "    @abstractmethod # decorator\n",
    "    def process(self):\n",
    "        pass\n",
    "        \n",
    "\n",
    "class Laptop(Computer):\n",
    "    def play_video(self):\n",
    "        print('playing movie')\n",
    "        \n",
    "    def process(self):\n",
    "        return 'Laptop process'\n",
    "        \n",
    "class DataScientist:\n",
    "    def work(self, device):\n",
    "        print('Doing some analysis on', device.process())\n",
    "        \n",
    "\n",
    "macbook = Laptop()\n",
    "\n",
    "vasanth = DataScientist()\n",
    "vasanth.work(macbook)"
   ]
  },
  {
   "cell_type": "code",
   "execution_count": 122,
   "id": "77b7ded5",
   "metadata": {},
   "outputs": [
    {
     "name": "stdout",
     "output_type": "stream",
     "text": [
      "Going to market with 100\n"
     ]
    }
   ],
   "source": [
    "from abc import ABC, abstractmethod\n",
    "\n",
    "class Market(ABC):\n",
    "    @abstractmethod\n",
    "    def carry_cash(self):\n",
    "        pass\n",
    "    \n",
    "class Human(Market):\n",
    "    def __init__(self):\n",
    "        self.amount = 0\n",
    "        \n",
    "    def goto_market(self):\n",
    "        if self.amount > 0:\n",
    "            print(f'Going to market with {self.amount}')\n",
    "        else:\n",
    "            print('No money')\n",
    "            \n",
    "    def carry_cash(self, amount):\n",
    "        self.amount = amount\n",
    "            \n",
    "ashwin = Human()\n",
    "ashwin.carry_cash(100)\n",
    "ashwin.goto_market()"
   ]
  },
  {
   "cell_type": "code",
   "execution_count": 127,
   "id": "4c3345dd",
   "metadata": {},
   "outputs": [
    {
     "name": "stdout",
     "output_type": "stream",
     "text": [
      "30\n",
      "25\n"
     ]
    }
   ],
   "source": [
    "from arithmetic import add, sub\n",
    "\n",
    "print(add(10, 20))\n",
    "print(sub(30, 5))"
   ]
  },
  {
   "cell_type": "code",
   "execution_count": 138,
   "id": "3ee52528",
   "metadata": {},
   "outputs": [
    {
     "name": "stdout",
     "output_type": "stream",
     "text": [
      "\n"
     ]
    }
   ],
   "source": [
    "# slicing\n",
    "name = 'Archana'\n",
    "# print(name[2:5])\n",
    "# print(name[5:1])\n",
    "# print(name[1:10])\n",
    "# print(name[1:6:])\n",
    "# print(name[5:-6])\n",
    "# print(name[5:-6:-1])\n",
    "# print(name[1:-6])\n",
    "# print(name[:-6])\n",
    "# print(name[:-6:-1])\n",
    "# print(name[0:-2:-1])"
   ]
  },
  {
   "cell_type": "code",
   "execution_count": 149,
   "id": "e2369e19",
   "metadata": {},
   "outputs": [
    {
     "name": "stdout",
     "output_type": "stream",
     "text": [
      "['D', 'e', 'e', 'p', 'a', 'n']\n",
      "<list_iterator object at 0x000001D29B22B520>\n",
      "D\n",
      "e\n",
      "e\n",
      "p\n",
      "a\n",
      "n\n"
     ]
    },
    {
     "ename": "StopIteration",
     "evalue": "",
     "output_type": "error",
     "traceback": [
      "\u001b[1;31m---------------------------------------------------------------------------\u001b[0m",
      "\u001b[1;31mStopIteration\u001b[0m                             Traceback (most recent call last)",
      "Input \u001b[1;32mIn [149]\u001b[0m, in \u001b[0;36m<cell line: 17>\u001b[1;34m()\u001b[0m\n\u001b[0;32m     15\u001b[0m \u001b[38;5;28mprint\u001b[39m(\u001b[38;5;28mnext\u001b[39m(iterable))\n\u001b[0;32m     16\u001b[0m \u001b[38;5;28mprint\u001b[39m(\u001b[38;5;28mnext\u001b[39m(iterable))\n\u001b[1;32m---> 17\u001b[0m \u001b[38;5;28mprint\u001b[39m(\u001b[38;5;28;43mnext\u001b[39;49m\u001b[43m(\u001b[49m\u001b[43miterable\u001b[49m\u001b[43m)\u001b[49m)\n",
      "\u001b[1;31mStopIteration\u001b[0m: "
     ]
    }
   ],
   "source": [
    "# name = 'Deepan'\n",
    "name = list('Deepan')\n",
    "print(name)\n",
    "\n",
    "# for char in name:\n",
    "#     print(char)\n",
    "\n",
    "iterable = iter(name)\n",
    "print(iterable)\n",
    "\n",
    "print(next(iterable))\n",
    "print(next(iterable))\n",
    "print(next(iterable))\n",
    "print(next(iterable))\n",
    "print(next(iterable))\n",
    "print(next(iterable))\n",
    "print(next(iterable))"
   ]
  },
  {
   "cell_type": "code",
   "execution_count": null,
   "id": "a7174532",
   "metadata": {},
   "outputs": [],
   "source": []
  },
  {
   "cell_type": "code",
   "execution_count": null,
   "id": "f92484f1",
   "metadata": {},
   "outputs": [],
   "source": []
  }
 ],
 "metadata": {
  "kernelspec": {
   "display_name": "Python 3 (ipykernel)",
   "language": "python",
   "name": "python3"
  },
  "language_info": {
   "codemirror_mode": {
    "name": "ipython",
    "version": 3
   },
   "file_extension": ".py",
   "mimetype": "text/x-python",
   "name": "python",
   "nbconvert_exporter": "python",
   "pygments_lexer": "ipython3",
   "version": "3.9.12"
  }
 },
 "nbformat": 4,
 "nbformat_minor": 5
}
