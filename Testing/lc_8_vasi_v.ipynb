{
 "cells": [
  {
   "cell_type": "code",
   "execution_count": null,
   "metadata": {},
   "outputs": [],
   "source": [
    "class Item:\n",
    "    discount=0\n",
    "    def __init__(self,**kwargs):\n",
    "        assert self.price>=0 \n",
    "        assert self.quantity>=1\n",
    "        self.name=kwargs.get('name')\n",
    "        self.price=kwargs.get('price',0)\n",
    "        self.quantity=kwargs.get('quantity',1)\n",
    "        \n",
    "    "
   ]
  }
 ],
 "metadata": {
  "language_info": {
   "name": "python"
  },
  "orig_nbformat": 4
 },
 "nbformat": 4,
 "nbformat_minor": 2
}
