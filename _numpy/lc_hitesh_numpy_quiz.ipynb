{
 "cells": [
  {
   "attachments": {},
   "cell_type": "markdown",
   "metadata": {},
   "source": [
    "```\n",
    "1) Create a numpy array which contains the first 10 elements. Negate the elements between 4 to 7. Output should be - array([ 0, 1, 2, 3, 4, -5, -6, 7, 8, 9]).\n",
    "```\n"
   ]
  },
  {
   "cell_type": "code",
   "execution_count": 2,
   "metadata": {},
   "outputs": [],
   "source": [
    "import numpy as np"
   ]
  },
  {
   "cell_type": "code",
   "execution_count": 4,
   "metadata": {},
   "outputs": [
    {
     "data": {
      "text/plain": [
       "array([ 0,  1,  2,  3,  4, -5, -6,  7,  8,  9])"
      ]
     },
     "execution_count": 4,
     "metadata": {},
     "output_type": "execute_result"
    }
   ],
   "source": [
    "\n",
    "arr = np.array([0, 1, 2, 3, 4, -5, -6, 7, 8, 9])\n",
    "arr[(4 < arr) & (arr < 7)] = -1\n",
    "arr"
   ]
  },
  {
   "attachments": {},
   "cell_type": "markdown",
   "metadata": {},
   "source": [
    "```\n",
    "2) A person is recording his weight everyday for 3 weeks. Create an array with average weight per weekend. Note that a week is starting from a monday. Weight of a person for 3 weeks-\n",
    "array([72. , 71.85714286, 71.71428571, 71.57142857, 71.42857143,\n",
    "71.28571429, 71.14285714, 71. , 70.85714286, 70.71428571,\n",
    "70.57142857, 70.42857143, 70.28571429, 70.14285714, 70. ,\n",
    "69.85714286, 69.71428571, 69.57142857, 69.42857143, 69.28571429,\n",
    "69.14285714])\n",
    "```\n"
   ]
  },
  {
   "cell_type": "code",
   "execution_count": 5,
   "metadata": {},
   "outputs": [],
   "source": [
    "arr = np.array([72., 71.85714286, 71.71428571, 71.57142857, 71.42857143,\n",
    "                71.28571429, 71.14285714, 71., 70.85714286, 70.71428571,\n",
    "                70.57142857, 70.42857143, 70.28571429, 70.14285714, 70.,\n",
    "                69.85714286, 69.71428571, 69.57142857, 69.42857143, 69.28571429,\n",
    "                69.14285714])"
   ]
  },
  {
   "attachments": {},
   "cell_type": "markdown",
   "metadata": {},
   "source": [
    "```\n",
    "3) Which of the following options is correct ? Condition - Add both the arrays and then multiply with\n",
    "a. Fetch the 3rd element\n",
    "a=np.array([2,10,12,20,55])\n",
    "b=np.array([5,10,33,66,99])\n",
    "```\n"
   ]
  },
  {
   "cell_type": "code",
   "execution_count": 9,
   "metadata": {},
   "outputs": [
    {
     "data": {
      "text/plain": [
       "540"
      ]
     },
     "execution_count": 9,
     "metadata": {},
     "output_type": "execute_result"
    }
   ],
   "source": [
    "a = np.array([2, 10, 12, 20, 55])\n",
    "b = np.array([5, 10, 33, 66, 99])\n",
    "((a+b)*a)[2]"
   ]
  },
  {
   "attachments": {},
   "cell_type": "markdown",
   "metadata": {},
   "source": [
    "```\n",
    "4) What will be the output of the code ?\n",
    "import numpy as np\n",
    "a=np.array([9,8,7,1,3,1,2],ndim=3)\n",
    "a\n",
    "```\n"
   ]
  },
  {
   "cell_type": "code",
   "execution_count": 10,
   "metadata": {},
   "outputs": [
    {
     "ename": "TypeError",
     "evalue": "array() got an unexpected keyword argument 'ndim'",
     "output_type": "error",
     "traceback": [
      "\u001b[1;31m---------------------------------------------------------------------------\u001b[0m",
      "\u001b[1;31mTypeError\u001b[0m                                 Traceback (most recent call last)",
      "Cell \u001b[1;32mIn[10], line 1\u001b[0m\n\u001b[1;32m----> 1\u001b[0m a\u001b[39m=\u001b[39mnp\u001b[39m.\u001b[39;49marray([\u001b[39m9\u001b[39;49m,\u001b[39m8\u001b[39;49m,\u001b[39m7\u001b[39;49m,\u001b[39m1\u001b[39;49m,\u001b[39m3\u001b[39;49m,\u001b[39m1\u001b[39;49m,\u001b[39m2\u001b[39;49m],ndim\u001b[39m=\u001b[39;49m\u001b[39m3\u001b[39;49m)\n\u001b[0;32m      2\u001b[0m a\n",
      "\u001b[1;31mTypeError\u001b[0m: array() got an unexpected keyword argument 'ndim'"
     ]
    }
   ],
   "source": [
    "a = np.array([9, 8, 7, 1, 3, 1, 2], ndim=3)\n",
    "a"
   ]
  },
  {
   "attachments": {},
   "cell_type": "markdown",
   "metadata": {},
   "source": [
    "```\n",
    "5) Find the pearson product- moment correlation coefficients by doing the reverse of numpy array1 with array2 ?\n",
    "Given -\n",
    "array1 = np.array([55,67,87,75,11])\n",
    "array2 = np.array([32,22,11,15,99])\n",
    "```\n"
   ]
  },
  {
   "cell_type": "code",
   "execution_count": 22,
   "metadata": {},
   "outputs": [
    {
     "data": {
      "text/plain": [
       "array([[ 1.        , -0.98053117],\n",
       "       [-0.98053117,  1.        ]])"
      ]
     },
     "execution_count": 22,
     "metadata": {},
     "output_type": "execute_result"
    }
   ],
   "source": [
    "array1 = np.array([55, 67, 87, 75, 11])\n",
    "array2 = np.array([32, 22, 11, 15, 99])\n",
    "np.corrcoef(array2, array1)"
   ]
  },
  {
   "attachments": {},
   "cell_type": "markdown",
   "metadata": {},
   "source": [
    "```\n",
    "6) What will be the output of the following code ?\n",
    "import numpy as np\n",
    "x = np.array([1,78,87,99])\n",
    "y = np.array([37,45,55,23,43,56])\n",
    "z = np.array([21,2,93,53,87,99])\n",
    "x, y, z = np.ix_(x,y,z)\n",
    "print(x)\n",
    "```\n"
   ]
  },
  {
   "cell_type": "code",
   "execution_count": 23,
   "metadata": {},
   "outputs": [
    {
     "name": "stdout",
     "output_type": "stream",
     "text": [
      "[[[ 1]]\n",
      "\n",
      " [[78]]\n",
      "\n",
      " [[87]]\n",
      "\n",
      " [[99]]]\n"
     ]
    }
   ],
   "source": [
    "x = np.array([1, 78, 87, 99])\n",
    "y = np.array([37, 45, 55, 23, 43, 56])\n",
    "z = np.array([21, 2, 93, 53, 87, 99])\n",
    "x, y, z = np.ix_(x, y, z)\n",
    "print(x)"
   ]
  },
  {
   "attachments": {},
   "cell_type": "markdown",
   "metadata": {},
   "source": [
    "```\n",
    "7) What is the total bytes consumed by the elements of the array?\n",
    "a=np.array([23,45,56,78,100])\n",
    "```\n"
   ]
  },
  {
   "cell_type": "code",
   "execution_count": 27,
   "metadata": {},
   "outputs": [
    {
     "data": {
      "text/plain": [
       "20"
      ]
     },
     "execution_count": 27,
     "metadata": {},
     "output_type": "execute_result"
    }
   ],
   "source": [
    "a = np.array([23, 45, 56, 78, 100])\n",
    "a.nbytes"
   ]
  },
  {
   "attachments": {},
   "cell_type": "markdown",
   "metadata": {},
   "source": [
    "```\n",
    "8) Which is the correct logic to convert a 1-D array to 2-D one-hot array?\n",
    "a = np.array([2,7,5])\n",
    "```\n"
   ]
  },
  {
   "cell_type": "code",
   "execution_count": 29,
   "metadata": {},
   "outputs": [
    {
     "data": {
      "text/plain": [
       "array([[0., 0., 1., 0., 0., 0., 0., 0.],\n",
       "       [0., 0., 0., 0., 0., 0., 0., 1.],\n",
       "       [0., 0., 0., 0., 0., 1., 0., 0.]])"
      ]
     },
     "execution_count": 29,
     "metadata": {},
     "output_type": "execute_result"
    }
   ],
   "source": [
    "a = np.array([2, 7, 5])\n",
    "b = np.zeros((a.size, a.max() + 1))\n",
    "b[np.arange(a.size), a] = 1\n",
    "b"
   ]
  },
  {
   "attachments": {},
   "cell_type": "markdown",
   "metadata": {},
   "source": [
    "```\n",
    "9) Calculate the min by max for each row for a given numpy array\n",
    "np.random.seed(10)\n",
    "a = np.random.randint(2,12, [7,5])\n",
    "```\n"
   ]
  },
  {
   "cell_type": "code",
   "execution_count": 49,
   "metadata": {},
   "outputs": [
    {
     "data": {
      "text/plain": [
       "(array([2, 2, 2, 3, 3, 3, 4]), array([11, 11, 10, 10,  8, 11, 11]))"
      ]
     },
     "execution_count": 49,
     "metadata": {},
     "output_type": "execute_result"
    }
   ],
   "source": [
    "np.random.seed(10)\n",
    "a = np.random.randint(2, 12, [7, 5])\n",
    "mi = np.min(a, axis=1)\n",
    "ma = np.max(a, axis=1)\n",
    "mi, ma"
   ]
  },
  {
   "attachments": {},
   "cell_type": "markdown",
   "metadata": {},
   "source": [
    "```\n",
    "10) Correct logic to convert an array of arrays into a flat 1-D array ?\n",
    "a=np.arange(5)\n",
    "b=np.arange(5,8)\n",
    "c=np.arange(8,13)\n",
    "d = np.array([a,b,c])\n",
    "```\n"
   ]
  },
  {
   "cell_type": "code",
   "execution_count": null,
   "metadata": {},
   "outputs": [],
   "source": [
    "a = np.arange(5)\n",
    "b = np.arange(5, 8)\n",
    "c = np.arange(8, 13)\n",
    "d = np.array([a, b, c])\n",
    "np.array([a for arr in d for a in arr])\n",
    "np.concatenate(d)"
   ]
  },
  {
   "attachments": {},
   "cell_type": "markdown",
   "metadata": {},
   "source": [
    "```\n",
    "Correct logic to create rank for items in an array using numpy ?\n",
    "Given -\n",
    "np.random.seed(10)\n",
    "a = np.random.randint(10, size=10)\n",
    "print(a)\n",
    "```\n"
   ]
  },
  {
   "cell_type": "code",
   "execution_count": 54,
   "metadata": {},
   "outputs": [
    {
     "name": "stdout",
     "output_type": "stream",
     "text": [
      "45\n"
     ]
    }
   ],
   "source": [
    "np.random.seed(10)\n",
    "a = np.random.randint(10, size=10)\n",
    "print(a.argsort())"
   ]
  },
  {
   "cell_type": "code",
   "execution_count": 57,
   "metadata": {},
   "outputs": [
    {
     "name": "stdout",
     "output_type": "stream",
     "text": [
      "40\n"
     ]
    }
   ],
   "source": [
    "\n",
    "x = np.random.randint(100)\n",
    "print(x)"
   ]
  },
  {
   "cell_type": "code",
   "execution_count": 64,
   "metadata": {},
   "outputs": [
    {
     "data": {
      "text/plain": [
       "array([[5, 7],\n",
       "       [2, 3]])"
      ]
     },
     "execution_count": 64,
     "metadata": {},
     "output_type": "execute_result"
    }
   ],
   "source": [
    "# 13) What will be the transpose of a matrix ?\n",
    "x = np.array([[5, 7], [2, 3]])\n",
    "np.transpose(a)\n",
    "x"
   ]
  },
  {
   "cell_type": "code",
   "execution_count": 67,
   "metadata": {},
   "outputs": [
    {
     "data": {
      "text/plain": [
       "11"
      ]
     },
     "execution_count": 67,
     "metadata": {},
     "output_type": "execute_result"
    }
   ],
   "source": [
    "a = np.array([22, 33, 45, 67, 89, 11, 111, 23, 45])\n",
    "a.min()"
   ]
  }
 ],
 "metadata": {
  "kernelspec": {
   "display_name": "Python 3",
   "language": "python",
   "name": "python3"
  },
  "language_info": {
   "codemirror_mode": {
    "name": "ipython",
    "version": 3
   },
   "file_extension": ".py",
   "mimetype": "text/x-python",
   "name": "python",
   "nbconvert_exporter": "python",
   "pygments_lexer": "ipython3",
   "version": "3.11.3"
  },
  "orig_nbformat": 4
 },
 "nbformat": 4,
 "nbformat_minor": 2
}
