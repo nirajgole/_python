{
 "cells": [
  {
   "cell_type": "code",
   "execution_count": 1,
   "id": "415c3072",
   "metadata": {},
   "outputs": [],
   "source": [
    "import numpy as np"
   ]
  },
  {
   "cell_type": "markdown",
   "id": "c46ef374",
   "metadata": {},
   "source": [
    "1. Create a numpy array with numpy.array module and with a data type integer and float.\n"
   ]
  },
  {
   "cell_type": "code",
   "execution_count": 20,
   "id": "3a1b8056",
   "metadata": {},
   "outputs": [],
   "source": [
    "#1\n",
    "a = np.array([1,2,3,4])\n",
    "b = np.array([0.1,0.2,0.4,0.6])\n"
   ]
  },
  {
   "cell_type": "code",
   "execution_count": 21,
   "id": "442411d6",
   "metadata": {},
   "outputs": [
    {
     "data": {
      "text/plain": [
       "dtype('int32')"
      ]
     },
     "execution_count": 21,
     "metadata": {},
     "output_type": "execute_result"
    }
   ],
   "source": [
    "a.dtype"
   ]
  },
  {
   "cell_type": "code",
   "execution_count": 22,
   "id": "db2f1d9b",
   "metadata": {},
   "outputs": [
    {
     "data": {
      "text/plain": [
       "dtype('float64')"
      ]
     },
     "execution_count": 22,
     "metadata": {},
     "output_type": "execute_result"
    }
   ],
   "source": [
    "b.dtype"
   ]
  },
  {
   "cell_type": "code",
   "execution_count": 17,
   "id": "8704e63f",
   "metadata": {},
   "outputs": [],
   "source": [
    "#2\n",
    "arr1 = np.array([1, 2, 3, 4], dtype='int')\n",
    "arr2 = np.array([1, 2, 3, 4], dtype='float')\n"
   ]
  },
  {
   "cell_type": "code",
   "execution_count": 18,
   "id": "4f1bf032",
   "metadata": {},
   "outputs": [
    {
     "data": {
      "text/plain": [
       "dtype('int32')"
      ]
     },
     "execution_count": 18,
     "metadata": {},
     "output_type": "execute_result"
    }
   ],
   "source": [
    "arr1.dtype"
   ]
  },
  {
   "cell_type": "code",
   "execution_count": 19,
   "id": "d6dc3fcd",
   "metadata": {},
   "outputs": [
    {
     "data": {
      "text/plain": [
       "dtype('float64')"
      ]
     },
     "execution_count": 19,
     "metadata": {},
     "output_type": "execute_result"
    }
   ],
   "source": [
    "arr2.dtype"
   ]
  },
  {
   "cell_type": "markdown",
   "id": "f88a98ad",
   "metadata": {},
   "source": [
    "2. Create numpy arrays that have zero, one, two, three, Four dimensions respectively.\n",
    "Also, print the shape and dimensions of the numpy arrays created above."
   ]
  },
  {
   "cell_type": "code",
   "execution_count": 34,
   "id": "ebe2510c",
   "metadata": {},
   "outputs": [
    {
     "name": "stdout",
     "output_type": "stream",
     "text": [
      "0 1 2 3 4\n",
      "()\n",
      "(3,)\n",
      "(3, 3)\n",
      "(1, 3, 3)\n",
      "(1, 1, 3, 3)\n"
     ]
    }
   ],
   "source": [
    "a1 = np.array(1)\n",
    "a2 = np.array([1,2,3])\n",
    "a3 = np.array([[1,2,3],[4,5,6],[7,8,9]])\n",
    "a4 = np.array([[[1,2,3],[4,5,6],[7,8,9]]])\n",
    "a5 = np.array([[[[1,2,3],[4,5,6],[7,8,9]]]])\n",
    "print(np.ndim(a1),np.ndim(a2),np.ndim(a3),np.ndim(a4),np.ndim(a5))\n",
    "print(a1.shape)\n",
    "print(a2.shape)\n",
    "print(a3.shape)\n",
    "print(a4.shape)\n",
    "print(a5.shape)\n"
   ]
  },
  {
   "cell_type": "markdown",
   "id": "e247ff95",
   "metadata": {},
   "source": [
    "3. Create a 2x2, 3x3, and 4x4 identity matrix using numpy.\n"
   ]
  },
  {
   "cell_type": "code",
   "execution_count": 35,
   "id": "8b864777",
   "metadata": {},
   "outputs": [
    {
     "name": "stdout",
     "output_type": "stream",
     "text": [
      "[[1. 0.]\n",
      " [0. 1.]]\n",
      "[[1. 0. 0.]\n",
      " [0. 1. 0.]\n",
      " [0. 0. 1.]]\n",
      "[[1. 0. 0. 0.]\n",
      " [0. 1. 0. 0.]\n",
      " [0. 0. 1. 0.]\n",
      " [0. 0. 0. 1.]]\n"
     ]
    }
   ],
   "source": [
    "# 1\n",
    "a = np.identity(2)\n",
    "b = np.identity(3)\n",
    "c = np.identity(4)\n",
    "\n",
    "print(a)\n",
    "print(b)\n",
    "print(c)"
   ]
  },
  {
   "cell_type": "code",
   "execution_count": 36,
   "id": "8150e74f",
   "metadata": {},
   "outputs": [
    {
     "name": "stdout",
     "output_type": "stream",
     "text": [
      "[[1 0]\n",
      " [0 1]]\n",
      "[[1 0 0]\n",
      " [0 1 0]\n",
      " [0 0 1]]\n",
      "[[1 0 0 0]\n",
      " [0 1 0 0]\n",
      " [0 0 1 0]\n",
      " [0 0 0 1]]\n"
     ]
    }
   ],
   "source": [
    "# 2\n",
    "a = np.identity(2, dtype='int')\n",
    "b = np.identity(3, dtype='int')\n",
    "c = np.identity(4, dtype='int')\n",
    "\n",
    "print(a)\n",
    "print(b)\n",
    "print(c)"
   ]
  },
  {
   "cell_type": "code",
   "execution_count": 39,
   "id": "53828739",
   "metadata": {},
   "outputs": [
    {
     "data": {
      "text/plain": [
       "array([[1, 0],\n",
       "       [0, 1]])"
      ]
     },
     "execution_count": 39,
     "metadata": {},
     "output_type": "execute_result"
    }
   ],
   "source": [
    "# 3\n",
    "a=np.eye(2, dtype='int')\n",
    "a"
   ]
  },
  {
   "cell_type": "markdown",
   "id": "298b5829",
   "metadata": {},
   "source": [
    "4. Create a numpy array with shape 2x5 that has all the elements as zero"
   ]
  },
  {
   "cell_type": "code",
   "execution_count": 42,
   "id": "726e72d9",
   "metadata": {},
   "outputs": [
    {
     "name": "stdout",
     "output_type": "stream",
     "text": [
      "[[0. 0. 0. 0. 0.]\n",
      " [0. 0. 0. 0. 0.]]\n",
      "[[0 0 0 0 0]\n",
      " [0 0 0 0 0]]\n"
     ]
    }
   ],
   "source": [
    "a = np.zeros((2,5))\n",
    "print(a)\n",
    "b = np.full((2,5),0)\n",
    "print(b)"
   ]
  },
  {
   "cell_type": "markdown",
   "id": "5154acaa",
   "metadata": {},
   "source": [
    "5. Create a numpy array that has the shape 3x5 and all the elements are 5.\n"
   ]
  },
  {
   "cell_type": "code",
   "execution_count": 48,
   "id": "f1b3fd7d",
   "metadata": {},
   "outputs": [
    {
     "name": "stdout",
     "output_type": "stream",
     "text": [
      "[[5 5 5 5 5]\n",
      " [5 5 5 5 5]\n",
      " [5 5 5 5 5]]\n"
     ]
    }
   ],
   "source": [
    "a=np.full((3,5),5)\n",
    "print(a)"
   ]
  },
  {
   "cell_type": "markdown",
   "id": "56c455a9",
   "metadata": {},
   "source": [
    "6. Create a numpy array with random integers in the range 0-100, and the sample size\n",
    "should be 25.\n"
   ]
  },
  {
   "cell_type": "code",
   "execution_count": 54,
   "id": "8bff9357",
   "metadata": {},
   "outputs": [
    {
     "data": {
      "text/plain": [
       "array([77, 68,  2, 86, 49, 90, 41, 42, 90, 45, 63, 39,  5, 47,  0, 27,  1,\n",
       "       53, 93, 91, 51, 96, 24, 57, 63])"
      ]
     },
     "execution_count": 54,
     "metadata": {},
     "output_type": "execute_result"
    }
   ],
   "source": [
    "a=np.random.randint(0,100,25)\n",
    "a"
   ]
  },
  {
   "cell_type": "code",
   "execution_count": 61,
   "id": "c20425a1",
   "metadata": {},
   "outputs": [
    {
     "data": {
      "text/plain": [
       "25"
      ]
     },
     "execution_count": 61,
     "metadata": {},
     "output_type": "execute_result"
    }
   ],
   "source": [
    "len(a)"
   ]
  },
  {
   "cell_type": "markdown",
   "id": "f46afad9",
   "metadata": {},
   "source": [
    "7. Create a numpy array with a shape 3x3 that has all elements as 1."
   ]
  },
  {
   "cell_type": "code",
   "execution_count": 66,
   "id": "426e4657",
   "metadata": {},
   "outputs": [
    {
     "name": "stdout",
     "output_type": "stream",
     "text": [
      "[[1 1 1]\n",
      " [1 1 1]\n",
      " [1 1 1]]\n"
     ]
    }
   ],
   "source": [
    "# 1\n",
    "a = np.full((3,3),1)\n",
    "print(a)\n"
   ]
  },
  {
   "cell_type": "code",
   "execution_count": 65,
   "id": "70c10021",
   "metadata": {},
   "outputs": [
    {
     "name": "stdout",
     "output_type": "stream",
     "text": [
      "[[1 1 1]\n",
      " [1 1 1]\n",
      " [1 1 1]]\n"
     ]
    }
   ],
   "source": [
    "# 2\n",
    "b = np.ones((3,3), dtype='int')\n",
    "print(b)"
   ]
  },
  {
   "cell_type": "markdown",
   "id": "84d7ca4c",
   "metadata": {},
   "source": [
    "8. Create a numpy array in the shape 2x3 with random integers in the range 0-100.\n",
    "Reshape the array in the shape 3x2 and print the updated shape of the resultant array."
   ]
  },
  {
   "cell_type": "code",
   "execution_count": 67,
   "id": "1a026c07",
   "metadata": {},
   "outputs": [
    {
     "data": {
      "text/plain": [
       "array([[24, 22,  3],\n",
       "       [84, 85, 99]])"
      ]
     },
     "execution_count": 67,
     "metadata": {},
     "output_type": "execute_result"
    }
   ],
   "source": [
    "a = np.random.randint(0, 100, size=(2,3))\n",
    "a"
   ]
  },
  {
   "cell_type": "code",
   "execution_count": 68,
   "id": "049cc6da",
   "metadata": {},
   "outputs": [
    {
     "data": {
      "text/plain": [
       "(2, 3)"
      ]
     },
     "execution_count": 68,
     "metadata": {},
     "output_type": "execute_result"
    }
   ],
   "source": [
    "a.shape"
   ]
  },
  {
   "cell_type": "code",
   "execution_count": 70,
   "id": "1d3c7872",
   "metadata": {},
   "outputs": [],
   "source": [
    "a=a.reshape(3,2)"
   ]
  },
  {
   "cell_type": "code",
   "execution_count": 71,
   "id": "31e867b1",
   "metadata": {},
   "outputs": [
    {
     "data": {
      "text/plain": [
       "array([[24, 22],\n",
       "       [ 3, 84],\n",
       "       [85, 99]])"
      ]
     },
     "execution_count": 71,
     "metadata": {},
     "output_type": "execute_result"
    }
   ],
   "source": [
    "a"
   ]
  },
  {
   "cell_type": "code",
   "execution_count": 72,
   "id": "144846e7",
   "metadata": {},
   "outputs": [
    {
     "data": {
      "text/plain": [
       "(3, 2)"
      ]
     },
     "execution_count": 72,
     "metadata": {},
     "output_type": "execute_result"
    }
   ],
   "source": [
    "a.shape"
   ]
  },
  {
   "cell_type": "markdown",
   "id": "b9b56d84",
   "metadata": {},
   "source": [
    "9. Create a random array, with the range 0-1000, with a size 50 and step 2. Perform the\n",
    "following operations on the same.\n",
    "\n",
    "a. Print the first ten elements of the array.\n",
    "\n",
    "b. Print the last ten elements of the array\n",
    "\n",
    "c. Print the elements from the indexes 10-25\n",
    "\n",
    "d. Print the element at the index 22\n",
    "\n",
    "e. Print the array using negative indexing.\n",
    "\n",
    "f. Print the last ten elements of the array, using negative indexing.\n"
   ]
  },
  {
   "cell_type": "code",
   "execution_count": 73,
   "id": "4172b573",
   "metadata": {},
   "outputs": [
    {
     "name": "stdout",
     "output_type": "stream",
     "text": [
      "[892 107 513 168  50 543  80 289 836   4 331 121 616 434 384 950  26 297\n",
      " 915 459 121 933 674  10 926  75 343  86 480  78  22 267  55 502 797 952\n",
      " 158 393 545 361 856 944 450  29 207 553 149 682 730 425]\n"
     ]
    }
   ],
   "source": [
    "a =np.random.randint(0,1000,50)\n",
    "print(a)"
   ]
  },
  {
   "cell_type": "code",
   "execution_count": 74,
   "id": "599661e9",
   "metadata": {},
   "outputs": [
    {
     "data": {
      "text/plain": [
       "50"
      ]
     },
     "execution_count": 74,
     "metadata": {},
     "output_type": "execute_result"
    }
   ],
   "source": [
    "len(a)"
   ]
  },
  {
   "cell_type": "code",
   "execution_count": 80,
   "id": "b555162f",
   "metadata": {},
   "outputs": [
    {
     "data": {
      "text/plain": [
       "array([892, 107, 513, 168,  50, 543,  80, 289, 836,   4])"
      ]
     },
     "execution_count": 80,
     "metadata": {},
     "output_type": "execute_result"
    }
   ],
   "source": [
    "# a\n",
    "\n",
    "# a[0:10]\n",
    "a[:10]"
   ]
  },
  {
   "cell_type": "code",
   "execution_count": 82,
   "id": "a3dc58d7",
   "metadata": {},
   "outputs": [
    {
     "data": {
      "text/plain": [
       "array([856, 944, 450,  29, 207, 553, 149, 682, 730, 425])"
      ]
     },
     "execution_count": 82,
     "metadata": {},
     "output_type": "execute_result"
    }
   ],
   "source": [
    "# b\n",
    "\n",
    "# a[40:50]\n",
    "a[40:]"
   ]
  },
  {
   "cell_type": "code",
   "execution_count": 83,
   "id": "de5d4b9e",
   "metadata": {},
   "outputs": [
    {
     "data": {
      "text/plain": [
       "array([331, 121, 616, 434, 384, 950,  26, 297, 915, 459, 121, 933, 674,\n",
       "        10, 926,  75])"
      ]
     },
     "execution_count": 83,
     "metadata": {},
     "output_type": "execute_result"
    }
   ],
   "source": [
    "# c\n",
    "\n",
    "a[10:26]"
   ]
  },
  {
   "cell_type": "code",
   "execution_count": 84,
   "id": "8160d0a2",
   "metadata": {},
   "outputs": [
    {
     "data": {
      "text/plain": [
       "674"
      ]
     },
     "execution_count": 84,
     "metadata": {},
     "output_type": "execute_result"
    }
   ],
   "source": [
    "# d\n",
    "\n",
    "a[22]"
   ]
  },
  {
   "cell_type": "code",
   "execution_count": 85,
   "id": "bfc6f06c",
   "metadata": {},
   "outputs": [
    {
     "data": {
      "text/plain": [
       "array([892, 107, 513, 168,  50, 543,  80, 289, 836,   4, 331, 121, 616,\n",
       "       434, 384, 950,  26, 297, 915, 459, 121, 933, 674,  10, 926,  75,\n",
       "       343,  86, 480,  78,  22, 267,  55, 502, 797, 952, 158, 393, 545,\n",
       "       361, 856, 944, 450,  29, 207, 553, 149, 682, 730, 425])"
      ]
     },
     "execution_count": 85,
     "metadata": {},
     "output_type": "execute_result"
    }
   ],
   "source": [
    "# e\n",
    "\n",
    "a[-50:]"
   ]
  },
  {
   "cell_type": "code",
   "execution_count": 86,
   "id": "d71d210d",
   "metadata": {},
   "outputs": [
    {
     "data": {
      "text/plain": [
       "array([856, 944, 450,  29, 207, 553, 149, 682, 730, 425])"
      ]
     },
     "execution_count": 86,
     "metadata": {},
     "output_type": "execute_result"
    }
   ],
   "source": [
    "# f\n",
    "\n",
    "a[-10:]"
   ]
  },
  {
   "cell_type": "code",
   "execution_count": 90,
   "id": "4f88d72c",
   "metadata": {},
   "outputs": [
    {
     "data": {
      "text/plain": [
       "array([425, 730, 682, 149, 553, 207,  29, 450, 944, 856, 361, 545, 393,\n",
       "       158, 952, 797, 502,  55, 267,  22,  78, 480,  86, 343,  75, 926,\n",
       "        10, 674, 933, 121, 459, 915, 297,  26, 950, 384, 434, 616, 121,\n",
       "       331,   4, 836, 289,  80, 543,  50, 168, 513, 107, 892])"
      ]
     },
     "execution_count": 90,
     "metadata": {},
     "output_type": "execute_result"
    }
   ],
   "source": [
    "# reverse order\n",
    "a[::-1]\n"
   ]
  },
  {
   "cell_type": "markdown",
   "id": "2872ea14",
   "metadata": {},
   "source": [
    "10. Given a numpy array that has values = [1,2,3,4,5]. Perform the following operations.\n",
    "\n",
    "a. Insert the element 6 at the end of the array.\n",
    "\n",
    "b. Insert the element 10 at the beginning of the array.\n",
    "\n",
    "c. Insert the element 30, before 4.\n",
    "\n",
    "d. Update the element 5 as 50.\n",
    "\n",
    "e. Delete the element 50 in the updated array.\n",
    "\n",
    "f. Create a function to search for the element 30.\n",
    "\n",
    "g. Sort the array in ascending order"
   ]
  },
  {
   "cell_type": "code",
   "execution_count": 96,
   "id": "ba6fcabe",
   "metadata": {},
   "outputs": [],
   "source": [
    "a=np.array([1,2,3,4,5])"
   ]
  },
  {
   "cell_type": "code",
   "execution_count": 97,
   "id": "654a4471",
   "metadata": {},
   "outputs": [
    {
     "data": {
      "text/plain": [
       "array([1, 2, 3, 4, 5, 6])"
      ]
     },
     "execution_count": 97,
     "metadata": {},
     "output_type": "execute_result"
    }
   ],
   "source": [
    "#a\n",
    "\n",
    "a=np.append(a,6)\n",
    "a"
   ]
  },
  {
   "cell_type": "code",
   "execution_count": 98,
   "id": "e5e135ce",
   "metadata": {},
   "outputs": [
    {
     "data": {
      "text/plain": [
       "array([10,  1,  2,  3,  4,  5,  6])"
      ]
     },
     "execution_count": 98,
     "metadata": {},
     "output_type": "execute_result"
    }
   ],
   "source": [
    "# b\n",
    "\n",
    "a=np.insert(a,0,10)\n",
    "a"
   ]
  },
  {
   "cell_type": "code",
   "execution_count": 99,
   "id": "9e02cde4",
   "metadata": {},
   "outputs": [
    {
     "data": {
      "text/plain": [
       "array([10,  1,  2,  3, 30,  4,  5,  6])"
      ]
     },
     "execution_count": 99,
     "metadata": {},
     "output_type": "execute_result"
    }
   ],
   "source": [
    "# c\n",
    "\n",
    "a=np.insert(a,4,30)\n",
    "a"
   ]
  },
  {
   "cell_type": "code",
   "execution_count": 100,
   "id": "07f85ef0",
   "metadata": {},
   "outputs": [
    {
     "data": {
      "text/plain": [
       "array([10,  1,  2,  3, 30,  4, 50,  6])"
      ]
     },
     "execution_count": 100,
     "metadata": {},
     "output_type": "execute_result"
    }
   ],
   "source": [
    "# d\n",
    "a[-2]=50\n",
    "a"
   ]
  },
  {
   "cell_type": "code",
   "execution_count": 101,
   "id": "c32482c9",
   "metadata": {},
   "outputs": [
    {
     "data": {
      "text/plain": [
       "array([10,  1,  2,  3, 30,  4,  6])"
      ]
     },
     "execution_count": 101,
     "metadata": {},
     "output_type": "execute_result"
    }
   ],
   "source": [
    "# e\n",
    "\n",
    "# np.delete(a,np.where(a==50))\n",
    "\n",
    "a=np.delete(a,-2)\n",
    "a"
   ]
  },
  {
   "cell_type": "code",
   "execution_count": 107,
   "id": "6a81d87a",
   "metadata": {},
   "outputs": [
    {
     "data": {
      "text/plain": [
       "(array([4], dtype=int64),)"
      ]
     },
     "execution_count": 107,
     "metadata": {},
     "output_type": "execute_result"
    }
   ],
   "source": [
    "l=np.where(a==30)\n",
    "l"
   ]
  },
  {
   "cell_type": "code",
   "execution_count": 115,
   "id": "eaf5e438",
   "metadata": {},
   "outputs": [],
   "source": [
    "# f\n",
    "\n",
    "# 1\n",
    "def find(n):\n",
    "    for i in range(len(a)):\n",
    "        if a[i]==n:\n",
    "            print(n,' is present at position ',i)"
   ]
  },
  {
   "cell_type": "code",
   "execution_count": 116,
   "id": "b6552110",
   "metadata": {},
   "outputs": [
    {
     "name": "stdout",
     "output_type": "stream",
     "text": [
      "30  is present at position  4\n"
     ]
    }
   ],
   "source": [
    "find(30)"
   ]
  },
  {
   "cell_type": "code",
   "execution_count": 117,
   "id": "1f92cd29",
   "metadata": {},
   "outputs": [
    {
     "name": "stdout",
     "output_type": "stream",
     "text": [
      "1  is present at position  1\n"
     ]
    }
   ],
   "source": [
    "find(1)"
   ]
  },
  {
   "cell_type": "code",
   "execution_count": 118,
   "id": "4f6fb1e1",
   "metadata": {},
   "outputs": [
    {
     "name": "stdout",
     "output_type": "stream",
     "text": [
      "10  is present at position  0\n"
     ]
    }
   ],
   "source": [
    "find(10)"
   ]
  },
  {
   "cell_type": "code",
   "execution_count": 123,
   "id": "cf617956",
   "metadata": {},
   "outputs": [
    {
     "name": "stdout",
     "output_type": "stream",
     "text": [
      "[4]\n"
     ]
    }
   ],
   "source": [
    "# 2\n",
    "\n",
    "def search_element(array, element):\n",
    "    if element in array:\n",
    "        return np.where(array == element)\n",
    "    else:\n",
    "        return f\"The element is not found\"\n",
    "    \n",
    "index = search_element(a, 30)\n",
    "print(index[0])\n"
   ]
  },
  {
   "cell_type": "code",
   "execution_count": 124,
   "id": "e52203b5",
   "metadata": {},
   "outputs": [
    {
     "name": "stdout",
     "output_type": "stream",
     "text": [
      "[10  1  2  3 30  4  6]\n",
      "[ 1  2  3  4  6 10 30]\n"
     ]
    }
   ],
   "source": [
    "# g\n",
    "\n",
    "print(a)\n",
    "a.sort()\n",
    "print(a)"
   ]
  },
  {
   "cell_type": "code",
   "execution_count": 133,
   "id": "0f4309f4",
   "metadata": {},
   "outputs": [
    {
     "data": {
      "text/plain": [
       "[30, 10, 6, 4, 3, 2, 1]"
      ]
     },
     "execution_count": 133,
     "metadata": {},
     "output_type": "execute_result"
    }
   ],
   "source": [
    "sorted(a, reverse=True)"
   ]
  },
  {
   "cell_type": "code",
   "execution_count": null,
   "id": "66c16294",
   "metadata": {},
   "outputs": [],
   "source": []
  },
  {
   "cell_type": "code",
   "execution_count": null,
   "id": "cde22c36",
   "metadata": {},
   "outputs": [],
   "source": []
  }
 ],
 "metadata": {
  "kernelspec": {
   "display_name": "Python 3 (ipykernel)",
   "language": "python",
   "name": "python3"
  },
  "language_info": {
   "codemirror_mode": {
    "name": "ipython",
    "version": 3
   },
   "file_extension": ".py",
   "mimetype": "text/x-python",
   "name": "python",
   "nbconvert_exporter": "python",
   "pygments_lexer": "ipython3",
   "version": "3.10.9"
  }
 },
 "nbformat": 4,
 "nbformat_minor": 5
}
