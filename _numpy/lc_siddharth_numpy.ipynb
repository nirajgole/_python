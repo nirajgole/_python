{
 "cells": [
  {
   "attachments": {},
   "cell_type": "markdown",
   "metadata": {},
   "source": [
    "## Numpy Hands-On\n"
   ]
  },
  {
   "cell_type": "code",
   "execution_count": 5,
   "metadata": {},
   "outputs": [],
   "source": [
    "import numpy as np"
   ]
  },
  {
   "attachments": {},
   "cell_type": "markdown",
   "metadata": {},
   "source": [
    "### 1. Create a numpy array with numpy.array module and with a data type integer and float.\n"
   ]
  },
  {
   "cell_type": "code",
   "execution_count": 13,
   "metadata": {},
   "outputs": [
    {
     "data": {
      "text/plain": [
       "dtype('int32')"
      ]
     },
     "execution_count": 13,
     "metadata": {},
     "output_type": "execute_result"
    }
   ],
   "source": [
    "np_float = np.array([], dtype=np.float32)\n",
    "np_int = np.array([], dtype=np.int32)\n",
    "np_float.dtype\n",
    "np_int.dtype"
   ]
  },
  {
   "attachments": {},
   "cell_type": "markdown",
   "metadata": {},
   "source": [
    "### 2. Create numpy arrays that have zero, one, two, three, Four dimensions respectively. Also, print the shape and dimensions of the numpy arrays created above.\n"
   ]
  },
  {
   "cell_type": "code",
   "execution_count": 22,
   "metadata": {},
   "outputs": [
    {
     "name": "stdout",
     "output_type": "stream",
     "text": [
      "\n",
      "(0, 1, 2, 3, 4)\n",
      "\n"
     ]
    }
   ],
   "source": [
    "\n",
    "print(f'''\n",
    "{\n",
    "    np.ndim(np.array(0)),\n",
    "    np.ndim(np.array([1])),\n",
    "    np.ndim(np.array([[2]])),\n",
    "    np.ndim(np.array([[[3]]])),\n",
    "    np.ndim(np.array([[[[4],[5]]],[[[4],[5]]]]))\n",
    "}\n",
    "''')"
   ]
  },
  {
   "attachments": {},
   "cell_type": "markdown",
   "metadata": {},
   "source": [
    "#### 3. Create a 2x3, 3x3, and 4x4 identity matrix using numpy.\n"
   ]
  },
  {
   "cell_type": "code",
   "execution_count": 43,
   "metadata": {},
   "outputs": [
    {
     "name": "stdout",
     "output_type": "stream",
     "text": [
      "(array([[1, 0],\n",
      "       [0, 1]], dtype=int8),) (array([[1, 0, 0],\n",
      "       [0, 1, 0],\n",
      "       [0, 0, 1]], dtype=int8),) [[1 0 0 0]\n",
      " [0 1 0 0]\n",
      " [0 0 1 0]\n",
      " [0 0 0 1]] [[1. 0. 0. 0. 0.]\n",
      " [0. 1. 0. 0. 0.]\n",
      " [0. 0. 1. 0. 0.]\n",
      " [0. 0. 0. 1. 0.]\n",
      " [0. 0. 0. 0. 1.]]\n"
     ]
    }
   ],
   "source": [
    "a2 = np.identity(2, dtype=np.int8),\n",
    "a3 = np.identity(3, dtype=np.int8),\n",
    "a4 = np.identity(4, dtype=np.int8)\n",
    "a5 = np.eye(5)\n",
    "print(a2, a3, a4, a5)"
   ]
  },
  {
   "attachments": {},
   "cell_type": "markdown",
   "metadata": {},
   "source": [
    "### 4. Create a numpy array with shape 2x5 that has all the elements as zero.\n"
   ]
  },
  {
   "cell_type": "code",
   "execution_count": 57,
   "metadata": {},
   "outputs": [
    {
     "data": {
      "text/plain": [
       "array([[0, 0, 0, 0, 0],\n",
       "       [0, 0, 0, 0, 0]], dtype=int8)"
      ]
     },
     "execution_count": 57,
     "metadata": {},
     "output_type": "execute_result"
    }
   ],
   "source": [
    "np.zeros((2, 5), dtype=np.int8)\n",
    "# help(np.zeros)"
   ]
  },
  {
   "attachments": {},
   "cell_type": "markdown",
   "metadata": {},
   "source": [
    "### 5. Create a numpy array that has the shape 3x5 and all the elements are 5.\n"
   ]
  },
  {
   "cell_type": "code",
   "execution_count": 60,
   "metadata": {},
   "outputs": [
    {
     "data": {
      "text/plain": [
       "array([[5, 5, 5, 5, 5],\n",
       "       [5, 5, 5, 5, 5],\n",
       "       [5, 5, 5, 5, 5]])"
      ]
     },
     "execution_count": 60,
     "metadata": {},
     "output_type": "execute_result"
    }
   ],
   "source": [
    "np.full((3, 5), 5)"
   ]
  },
  {
   "attachments": {},
   "cell_type": "markdown",
   "metadata": {},
   "source": [
    "### 6. Create a numpy array with random integers in the range 0-100, and the sample size should be 25.\n"
   ]
  },
  {
   "cell_type": "code",
   "execution_count": 71,
   "metadata": {},
   "outputs": [
    {
     "data": {
      "text/plain": [
       "array([[  0,   4,   8,  12,  16],\n",
       "       [ 20,  25,  29,  33,  37],\n",
       "       [ 41,  45,  50,  54,  58],\n",
       "       [ 62,  66,  70,  75,  79],\n",
       "       [ 83,  87,  91,  95, 100]], dtype=int8)"
      ]
     },
     "execution_count": 71,
     "metadata": {},
     "output_type": "execute_result"
    }
   ],
   "source": [
    "# np.linspace(0,100,25,dtype=np.int8).reshape(5,5)"
   ]
  },
  {
   "cell_type": "code",
   "execution_count": 72,
   "metadata": {},
   "outputs": [
    {
     "data": {
      "text/plain": [
       "array([[38, 83, 58, 86, 39],\n",
       "       [55, 28, 38, 25, 84],\n",
       "       [64, 84, 76, 93,  8],\n",
       "       [ 3, 64,  4, 55, 74],\n",
       "       [70, 88, 29, 40, 39]])"
      ]
     },
     "execution_count": 72,
     "metadata": {},
     "output_type": "execute_result"
    }
   ],
   "source": [
    "np.random.randint(0, 100, 25, dtype=np.int8).reshape(5, 5)"
   ]
  },
  {
   "attachments": {},
   "cell_type": "markdown",
   "metadata": {},
   "source": [
    "### 7. Create a numpy array with a shape 3x3 that has all elements as 1.\n"
   ]
  },
  {
   "cell_type": "code",
   "execution_count": 74,
   "metadata": {},
   "outputs": [
    {
     "data": {
      "text/plain": [
       "array([[1, 1, 1],\n",
       "       [1, 1, 1],\n",
       "       [1, 1, 1]], dtype=int8)"
      ]
     },
     "execution_count": 74,
     "metadata": {},
     "output_type": "execute_result"
    }
   ],
   "source": [
    "np.ones((3, 3), dtype=np.int8)"
   ]
  },
  {
   "attachments": {},
   "cell_type": "markdown",
   "metadata": {},
   "source": [
    "### 8. Create a numpy array in the shape 2x3 with random integers in the range 0-100. Reshape the array in the shape 3x2 and print the updated shape of the resultant array.\n"
   ]
  },
  {
   "cell_type": "code",
   "execution_count": 82,
   "metadata": {},
   "outputs": [
    {
     "data": {
      "text/plain": [
       "(3, 2)"
      ]
     },
     "execution_count": 82,
     "metadata": {},
     "output_type": "execute_result"
    }
   ],
   "source": [
    "np.random.randint(0, 100, (2, 3)).reshape(3, 2).shape"
   ]
  },
  {
   "attachments": {},
   "cell_type": "markdown",
   "metadata": {},
   "source": [
    "````\n",
    "9. Create a random array, with the range 0-1000, with a size 50 and step 2. Perform the\n",
    "following operations on the same.\n",
    "a. Print the first ten elements of the array.\n",
    "b. Print the last ten elements of the array\n",
    "c. Print the elements from the indexes 10-25\n",
    "d. Print the element at the index 22\n",
    "e. Print the array using negative indexing.\n",
    "f. Print the last ten elements of the array, using negative indexing.```\n",
    "````\n"
   ]
  },
  {
   "cell_type": "code",
   "execution_count": 87,
   "metadata": {},
   "outputs": [
    {
     "data": {
      "text/plain": [
       "array([ 78, 583, 696, 999, 970, 352, 459, 821, 716, 794, 277, 692, 345,\n",
       "       213,  75,  83, 611, 721, 523, 340, 307, 485, 390, 606, 619, 702,\n",
       "       488, 832, 940, 852, 971, 645, 249, 173, 178, 815, 159, 682, 612,\n",
       "       856,   8, 600, 413, 462, 191, 408, 972, 707, 104, 890])"
      ]
     },
     "execution_count": 87,
     "metadata": {},
     "output_type": "execute_result"
    }
   ],
   "source": [
    "rand_arr = np.random.randint(0, 1000, 50)\n",
    "rand_arr"
   ]
  },
  {
   "cell_type": "code",
   "execution_count": 88,
   "metadata": {},
   "outputs": [
    {
     "data": {
      "text/plain": [
       "array([ 78, 583, 696, 999, 970, 352, 459, 821, 716, 794])"
      ]
     },
     "execution_count": 88,
     "metadata": {},
     "output_type": "execute_result"
    }
   ],
   "source": [
    "rand_arr[:10]"
   ]
  },
  {
   "cell_type": "code",
   "execution_count": 95,
   "metadata": {},
   "outputs": [
    {
     "data": {
      "text/plain": [
       "array([  8, 600, 413, 462, 191, 408, 972, 707, 104, 890])"
      ]
     },
     "execution_count": 95,
     "metadata": {},
     "output_type": "execute_result"
    }
   ],
   "source": [
    "rand_arr[40:]"
   ]
  },
  {
   "cell_type": "code",
   "execution_count": 91,
   "metadata": {},
   "outputs": [
    {
     "data": {
      "text/plain": [
       "array([277, 692, 345, 213,  75,  83, 611, 721, 523, 340, 307, 485, 390,\n",
       "       606, 619, 702])"
      ]
     },
     "execution_count": 91,
     "metadata": {},
     "output_type": "execute_result"
    }
   ],
   "source": [
    "rand_arr[10:26]"
   ]
  },
  {
   "cell_type": "code",
   "execution_count": 92,
   "metadata": {},
   "outputs": [
    {
     "data": {
      "text/plain": [
       "390"
      ]
     },
     "execution_count": 92,
     "metadata": {},
     "output_type": "execute_result"
    }
   ],
   "source": [
    "rand_arr[22]"
   ]
  },
  {
   "cell_type": "code",
   "execution_count": 94,
   "metadata": {},
   "outputs": [
    {
     "data": {
      "text/plain": [
       "array([ 78, 583, 696, 999, 970, 352, 459, 821, 716, 794, 277, 692, 345,\n",
       "       213,  75,  83, 611, 721, 523, 340, 307, 485, 390, 606, 619, 702,\n",
       "       488, 832, 940, 852, 971, 645, 249, 173, 178, 815, 159, 682, 612,\n",
       "       856,   8, 600, 413, 462, 191, 408, 972, 707, 104, 890])"
      ]
     },
     "execution_count": 94,
     "metadata": {},
     "output_type": "execute_result"
    }
   ],
   "source": [
    "rand_arr[-len(rand_arr):]"
   ]
  },
  {
   "attachments": {},
   "cell_type": "markdown",
   "metadata": {},
   "source": [
    "```\n",
    "10. Given a numpy array that has values = [1,2,3,4,5]. Perform the following operations.\n",
    "a. Insert the element 6 at the end of the array.\n",
    "b. Insert the element 10 at the beginning of the array.\n",
    "c. Insert the element 30, before 4.\n",
    "d. Update the element 5 as 50.\n",
    "e. Delete the element 50 in the updated array.\n",
    "f. Create a function to search for the element 30.\n",
    "g. Sort the array in ascending order.\n",
    "```\n"
   ]
  },
  {
   "cell_type": "code",
   "execution_count": 97,
   "metadata": {},
   "outputs": [
    {
     "data": {
      "text/plain": [
       "array([1, 2, 3, 4, 5])"
      ]
     },
     "execution_count": 97,
     "metadata": {},
     "output_type": "execute_result"
    }
   ],
   "source": [
    "sample_arr = np.array(range(1, 6))\n",
    "sample_arr"
   ]
  },
  {
   "cell_type": "code",
   "execution_count": 101,
   "metadata": {},
   "outputs": [
    {
     "data": {
      "text/plain": [
       "array([1, 2, 3, 4, 5, 6])"
      ]
     },
     "execution_count": 101,
     "metadata": {},
     "output_type": "execute_result"
    }
   ],
   "source": [
    "np.append(sample_arr, 6)"
   ]
  },
  {
   "cell_type": "code",
   "execution_count": 121,
   "metadata": {},
   "outputs": [
    {
     "data": {
      "text/plain": [
       "array([ 1,  2,  3, 30,  4, 50])"
      ]
     },
     "execution_count": 121,
     "metadata": {},
     "output_type": "execute_result"
    }
   ],
   "source": [
    "np.insert(sample_arr, np.where(sample_arr == 4)[0], 30)"
   ]
  },
  {
   "cell_type": "code",
   "execution_count": 115,
   "metadata": {},
   "outputs": [
    {
     "data": {
      "text/plain": [
       "array([ 1,  2,  3,  4, 50])"
      ]
     },
     "execution_count": 115,
     "metadata": {},
     "output_type": "execute_result"
    }
   ],
   "source": [
    "sample_arr[sample_arr==5]=50\n",
    "sample_arr"
   ]
  },
  {
   "cell_type": "code",
   "execution_count": 116,
   "metadata": {},
   "outputs": [
    {
     "data": {
      "text/plain": [
       "array([1, 2, 3, 4])"
      ]
     },
     "execution_count": 116,
     "metadata": {},
     "output_type": "execute_result"
    }
   ],
   "source": [
    "np.delete(sample_arr,np.where(sample_arr==50))"
   ]
  },
  {
   "cell_type": "code",
   "execution_count": 130,
   "metadata": {},
   "outputs": [
    {
     "data": {
      "text/plain": [
       "'Not in list'"
      ]
     },
     "execution_count": 130,
     "metadata": {},
     "output_type": "execute_result"
    }
   ],
   "source": [
    "# pos=np.where(sample_arr==30)\n",
    "a=lambda arr,n:arr.tolist().index(n) if n in arr else f'Not in list'\n",
    "a(sample_arr,30)"
   ]
  },
  {
   "cell_type": "code",
   "execution_count": 118,
   "metadata": {},
   "outputs": [
    {
     "data": {
      "text/plain": [
       "array([ 1,  2,  3,  4, 50])"
      ]
     },
     "execution_count": 118,
     "metadata": {},
     "output_type": "execute_result"
    }
   ],
   "source": [
    "np.sort(sample_arr)"
   ]
  },
  {
   "cell_type": "code",
   "execution_count": 7,
   "metadata": {},
   "outputs": [
    {
     "data": {
      "text/plain": [
       "array([1, 2, 3, 3, 4, 5])"
      ]
     },
     "execution_count": 7,
     "metadata": {},
     "output_type": "execute_result"
    }
   ],
   "source": [
    "# flatten numpy array\n",
    "arr=np.array([[1,2,3],[3,4,5]])\n",
    "arr.ravel()\n"
   ]
  }
 ],
 "metadata": {
  "kernelspec": {
   "display_name": "Python 3",
   "language": "python",
   "name": "python3"
  },
  "language_info": {
   "codemirror_mode": {
    "name": "ipython",
    "version": 3
   },
   "file_extension": ".py",
   "mimetype": "text/x-python",
   "name": "python",
   "nbconvert_exporter": "python",
   "pygments_lexer": "ipython3",
   "version": "3.11.3"
  },
  "orig_nbformat": 4
 },
 "nbformat": 4,
 "nbformat_minor": 2
}
