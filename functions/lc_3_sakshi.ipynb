{
 "cells": [
  {
   "cell_type": "code",
   "execution_count": 1,
   "metadata": {},
   "outputs": [
    {
     "name": "stdout",
     "output_type": "stream",
     "text": [
      "Even\n"
     ]
    }
   ],
   "source": [
    "num=int(input(\"Enter a number\"))\n",
    "\n",
    "print(f'{\"Even\" if num%2==0 else \"odd\"}')"
   ]
  },
  {
   "cell_type": "code",
   "execution_count": 3,
   "metadata": {},
   "outputs": [
    {
     "name": "stdout",
     "output_type": "stream",
     "text": [
      "Eligible for bonus of 56565.6\n"
     ]
    }
   ],
   "source": [
    "yrs_of_exp=int(input(\"Enter years: \"))\n",
    "salary=int(input(\"Enter salary: \"))\n",
    "\n",
    "if salary>=25_000 and yrs_of_exp>3:\n",
    "    print(f\"Eligible for bonus of {round(salary*0.10,2)}\")\n",
    "else:\n",
    "    print(\"Not eligible for bonus\")"
   ]
  },
  {
   "cell_type": "code",
   "execution_count": null,
   "metadata": {},
   "outputs": [],
   "source": [
    "def get_bile_tax(cp:int)->float:\n",
    "    if cp>10_00_00:\n",
    "        return round(cp*0.15,2)\n",
    "    elif cp>50_000 and cp<=10_00_00:\n",
    "        return round(cp*0.10,2)\n",
    "    else:\n",
    "        return round(cp*0.5,2)\n",
    "\n",
    "bile_cp=int(input(\"Enter bile cost price: \"))\n",
    "print(f'Tax value: {get_bile_tax(bile_cp)}')"
   ]
  },
  {
   "cell_type": "code",
   "execution_count": null,
   "metadata": {},
   "outputs": [],
   "source": [
    "def check_if_leap_year(year:int)->bool:\n",
    "    if year%400==0:\n",
    "        return True\n",
    "    \n",
    "    if year%100==0:\n",
    "        return False\n",
    "    \n",
    "    if year%4==0:\n",
    "        return True\n",
    "    \n",
    "    return False\n",
    "\n",
    "yr=int(input(\"Enter year: \"))\n",
    "\n",
    "print(f'{yr} is {\"leap\" if check_if_leap_year(yr) else \"not leap\"} year')"
   ]
  },
  {
   "cell_type": "code",
   "execution_count": 8,
   "metadata": {},
   "outputs": [
    {
     "name": "stdout",
     "output_type": "stream",
     "text": [
      "24\n"
     ]
    }
   ],
   "source": [
    "result=1\n",
    "for i in range(1,5):\n",
    "    result*=i\n",
    "\n",
    "print(result)"
   ]
  },
  {
   "cell_type": "code",
   "execution_count": 13,
   "metadata": {},
   "outputs": [
    {
     "name": "stdout",
     "output_type": "stream",
     "text": [
      "Prime\n"
     ]
    }
   ],
   "source": [
    "num=71\n",
    "flag=True\n",
    "for i in range(2,num//2):\n",
    "    if num%i==0:\n",
    "        flag=False\n",
    "\n",
    "print(f'{\"Prime\" if flag else \"Not prime\"}')"
   ]
  }
 ],
 "metadata": {
  "kernelspec": {
   "display_name": "Python 3",
   "language": "python",
   "name": "python3"
  },
  "language_info": {
   "codemirror_mode": {
    "name": "ipython",
    "version": 3
   },
   "file_extension": ".py",
   "mimetype": "text/x-python",
   "name": "python",
   "nbconvert_exporter": "python",
   "pygments_lexer": "ipython3",
   "version": "3.10.9"
  },
  "orig_nbformat": 4
 },
 "nbformat": 4,
 "nbformat_minor": 2
}
